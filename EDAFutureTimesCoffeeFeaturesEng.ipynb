{
  "nbformat": 4,
  "nbformat_minor": 0,
  "metadata": {
    "colab": {
      "name": "FutureTimesCoffeeFeaturesEng.ipynb",
      "provenance": []
    },
    "kernelspec": {
      "name": "python3",
      "display_name": "Python 3"
    },
    "language_info": {
      "name": "python"
    }
  },
  "cells": [
    {
      "cell_type": "code",
      "metadata": {
        "id": "NOGbgTGstGis"
      },
      "source": [
        "import pandas as pd\n",
        "import numpy as np\n",
        "import matplotlib.pyplot as plt\n",
        "import seaborn as sns"
      ],
      "execution_count": null,
      "outputs": []
    },
    {
      "cell_type": "code",
      "metadata": {
        "id": "XlyPTi71vvym"
      },
      "source": [
        "df = pd.read_csv('/content/drive/MyDrive/vendas_coffee.csv')"
      ],
      "execution_count": null,
      "outputs": []
    },
    {
      "cell_type": "code",
      "metadata": {
        "colab": {
          "base_uri": "https://localhost:8080/",
          "height": 424
        },
        "id": "qGJSPPe3rIzm",
        "outputId": "a98b0ae5-6bea-4abf-dedc-fea89ff0d6c7"
      },
      "source": [
        "df"
      ],
      "execution_count": null,
      "outputs": [
        {
          "output_type": "execute_result",
          "data": {
            "text/html": [
              "<div>\n",
              "<style scoped>\n",
              "    .dataframe tbody tr th:only-of-type {\n",
              "        vertical-align: middle;\n",
              "    }\n",
              "\n",
              "    .dataframe tbody tr th {\n",
              "        vertical-align: top;\n",
              "    }\n",
              "\n",
              "    .dataframe thead th {\n",
              "        text-align: right;\n",
              "    }\n",
              "</style>\n",
              "<table border=\"1\" class=\"dataframe\">\n",
              "  <thead>\n",
              "    <tr style=\"text-align: right;\">\n",
              "      <th></th>\n",
              "      <th>data</th>\n",
              "      <th>tMin</th>\n",
              "      <th>tMed</th>\n",
              "      <th>tMax</th>\n",
              "      <th>precipitacao</th>\n",
              "      <th>Produto</th>\n",
              "      <th>Vendas</th>\n",
              "    </tr>\n",
              "  </thead>\n",
              "  <tbody>\n",
              "    <tr>\n",
              "      <th>0</th>\n",
              "      <td>2018-08-06</td>\n",
              "      <td>NaN</td>\n",
              "      <td>NaN</td>\n",
              "      <td>NaN</td>\n",
              "      <td>4</td>\n",
              "      <td>1</td>\n",
              "      <td>35</td>\n",
              "    </tr>\n",
              "    <tr>\n",
              "      <th>1</th>\n",
              "      <td>2018-08-06</td>\n",
              "      <td>NaN</td>\n",
              "      <td>NaN</td>\n",
              "      <td>NaN</td>\n",
              "      <td>4</td>\n",
              "      <td>2</td>\n",
              "      <td>9</td>\n",
              "    </tr>\n",
              "    <tr>\n",
              "      <th>2</th>\n",
              "      <td>2018-08-06</td>\n",
              "      <td>NaN</td>\n",
              "      <td>NaN</td>\n",
              "      <td>NaN</td>\n",
              "      <td>4</td>\n",
              "      <td>3</td>\n",
              "      <td>6</td>\n",
              "    </tr>\n",
              "    <tr>\n",
              "      <th>3</th>\n",
              "      <td>2018-08-06</td>\n",
              "      <td>NaN</td>\n",
              "      <td>NaN</td>\n",
              "      <td>NaN</td>\n",
              "      <td>4</td>\n",
              "      <td>4</td>\n",
              "      <td>0</td>\n",
              "    </tr>\n",
              "    <tr>\n",
              "      <th>4</th>\n",
              "      <td>2018-08-06</td>\n",
              "      <td>NaN</td>\n",
              "      <td>NaN</td>\n",
              "      <td>NaN</td>\n",
              "      <td>4</td>\n",
              "      <td>5</td>\n",
              "      <td>0</td>\n",
              "    </tr>\n",
              "    <tr>\n",
              "      <th>...</th>\n",
              "      <td>...</td>\n",
              "      <td>...</td>\n",
              "      <td>...</td>\n",
              "      <td>...</td>\n",
              "      <td>...</td>\n",
              "      <td>...</td>\n",
              "      <td>...</td>\n",
              "    </tr>\n",
              "    <tr>\n",
              "      <th>659</th>\n",
              "      <td>2020-03-02</td>\n",
              "      <td>16.5</td>\n",
              "      <td>19.5</td>\n",
              "      <td>22.375</td>\n",
              "      <td>0</td>\n",
              "      <td>4</td>\n",
              "      <td>14</td>\n",
              "    </tr>\n",
              "    <tr>\n",
              "      <th>660</th>\n",
              "      <td>2020-03-02</td>\n",
              "      <td>16.5</td>\n",
              "      <td>19.5</td>\n",
              "      <td>22.375</td>\n",
              "      <td>0</td>\n",
              "      <td>5</td>\n",
              "      <td>14</td>\n",
              "    </tr>\n",
              "    <tr>\n",
              "      <th>661</th>\n",
              "      <td>2020-03-02</td>\n",
              "      <td>16.5</td>\n",
              "      <td>19.5</td>\n",
              "      <td>22.375</td>\n",
              "      <td>0</td>\n",
              "      <td>6</td>\n",
              "      <td>9</td>\n",
              "    </tr>\n",
              "    <tr>\n",
              "      <th>662</th>\n",
              "      <td>2020-03-02</td>\n",
              "      <td>16.5</td>\n",
              "      <td>19.5</td>\n",
              "      <td>22.375</td>\n",
              "      <td>0</td>\n",
              "      <td>7</td>\n",
              "      <td>15</td>\n",
              "    </tr>\n",
              "    <tr>\n",
              "      <th>663</th>\n",
              "      <td>2020-03-02</td>\n",
              "      <td>16.5</td>\n",
              "      <td>19.5</td>\n",
              "      <td>22.375</td>\n",
              "      <td>0</td>\n",
              "      <td>8</td>\n",
              "      <td>7</td>\n",
              "    </tr>\n",
              "  </tbody>\n",
              "</table>\n",
              "<p>664 rows × 7 columns</p>\n",
              "</div>"
            ],
            "text/plain": [
              "           data  tMin  tMed    tMax precipitacao  Produto  Vendas\n",
              "0    2018-08-06   NaN   NaN     NaN            4        1      35\n",
              "1    2018-08-06   NaN   NaN     NaN            4        2       9\n",
              "2    2018-08-06   NaN   NaN     NaN            4        3       6\n",
              "3    2018-08-06   NaN   NaN     NaN            4        4       0\n",
              "4    2018-08-06   NaN   NaN     NaN            4        5       0\n",
              "..          ...   ...   ...     ...          ...      ...     ...\n",
              "659  2020-03-02  16.5  19.5  22.375            0        4      14\n",
              "660  2020-03-02  16.5  19.5  22.375            0        5      14\n",
              "661  2020-03-02  16.5  19.5  22.375            0        6       9\n",
              "662  2020-03-02  16.5  19.5  22.375            0        7      15\n",
              "663  2020-03-02  16.5  19.5  22.375            0        8       7\n",
              "\n",
              "[664 rows x 7 columns]"
            ]
          },
          "metadata": {
            "tags": []
          },
          "execution_count": 3
        }
      ]
    },
    {
      "cell_type": "code",
      "metadata": {
        "colab": {
          "base_uri": "https://localhost:8080/"
        },
        "id": "a3Cb-GwAa511",
        "outputId": "d295fa3f-551a-4c2d-a24c-219a078a44b4"
      },
      "source": [
        "df.info()"
      ],
      "execution_count": null,
      "outputs": [
        {
          "output_type": "stream",
          "text": [
            "<class 'pandas.core.frame.DataFrame'>\n",
            "RangeIndex: 664 entries, 0 to 663\n",
            "Data columns (total 7 columns):\n",
            " #   Column        Non-Null Count  Dtype  \n",
            "---  ------        --------------  -----  \n",
            " 0   data          664 non-null    object \n",
            " 1   tMin          656 non-null    float64\n",
            " 2   tMed          656 non-null    float64\n",
            " 3   tMax          656 non-null    float64\n",
            " 4   precipitacao  664 non-null    object \n",
            " 5   Produto       664 non-null    int64  \n",
            " 6   Vendas        664 non-null    int64  \n",
            "dtypes: float64(3), int64(2), object(2)\n",
            "memory usage: 36.4+ KB\n"
          ],
          "name": "stdout"
        }
      ]
    },
    {
      "cell_type": "code",
      "metadata": {
        "colab": {
          "base_uri": "https://localhost:8080/",
          "height": 300
        },
        "id": "HPQkfykjHO4R",
        "outputId": "1f3cc963-1991-406c-9dfa-815576b844bd"
      },
      "source": [
        "df.describe()"
      ],
      "execution_count": null,
      "outputs": [
        {
          "output_type": "execute_result",
          "data": {
            "text/html": [
              "<div>\n",
              "<style scoped>\n",
              "    .dataframe tbody tr th:only-of-type {\n",
              "        vertical-align: middle;\n",
              "    }\n",
              "\n",
              "    .dataframe tbody tr th {\n",
              "        vertical-align: top;\n",
              "    }\n",
              "\n",
              "    .dataframe thead th {\n",
              "        text-align: right;\n",
              "    }\n",
              "</style>\n",
              "<table border=\"1\" class=\"dataframe\">\n",
              "  <thead>\n",
              "    <tr style=\"text-align: right;\">\n",
              "      <th></th>\n",
              "      <th>tMin</th>\n",
              "      <th>tMed</th>\n",
              "      <th>tMax</th>\n",
              "      <th>Produto</th>\n",
              "      <th>Vendas</th>\n",
              "    </tr>\n",
              "  </thead>\n",
              "  <tbody>\n",
              "    <tr>\n",
              "      <th>count</th>\n",
              "      <td>656.000000</td>\n",
              "      <td>656.000000</td>\n",
              "      <td>656.000000</td>\n",
              "      <td>664.000000</td>\n",
              "      <td>664.000000</td>\n",
              "    </tr>\n",
              "    <tr>\n",
              "      <th>mean</th>\n",
              "      <td>15.634146</td>\n",
              "      <td>20.158537</td>\n",
              "      <td>24.219512</td>\n",
              "      <td>4.500000</td>\n",
              "      <td>28.617470</td>\n",
              "    </tr>\n",
              "    <tr>\n",
              "      <th>std</th>\n",
              "      <td>2.615119</td>\n",
              "      <td>3.054845</td>\n",
              "      <td>3.371216</td>\n",
              "      <td>2.293015</td>\n",
              "      <td>40.925618</td>\n",
              "    </tr>\n",
              "    <tr>\n",
              "      <th>min</th>\n",
              "      <td>9.625000</td>\n",
              "      <td>13.750000</td>\n",
              "      <td>16.375000</td>\n",
              "      <td>1.000000</td>\n",
              "      <td>0.000000</td>\n",
              "    </tr>\n",
              "    <tr>\n",
              "      <th>25%</th>\n",
              "      <td>13.750000</td>\n",
              "      <td>18.125000</td>\n",
              "      <td>22.000000</td>\n",
              "      <td>2.750000</td>\n",
              "      <td>4.000000</td>\n",
              "    </tr>\n",
              "    <tr>\n",
              "      <th>50%</th>\n",
              "      <td>15.875000</td>\n",
              "      <td>20.187500</td>\n",
              "      <td>24.500000</td>\n",
              "      <td>4.500000</td>\n",
              "      <td>10.000000</td>\n",
              "    </tr>\n",
              "    <tr>\n",
              "      <th>75%</th>\n",
              "      <td>17.875000</td>\n",
              "      <td>22.250000</td>\n",
              "      <td>25.625000</td>\n",
              "      <td>6.250000</td>\n",
              "      <td>34.000000</td>\n",
              "    </tr>\n",
              "    <tr>\n",
              "      <th>max</th>\n",
              "      <td>20.000000</td>\n",
              "      <td>26.750000</td>\n",
              "      <td>35.750000</td>\n",
              "      <td>8.000000</td>\n",
              "      <td>208.000000</td>\n",
              "    </tr>\n",
              "  </tbody>\n",
              "</table>\n",
              "</div>"
            ],
            "text/plain": [
              "             tMin        tMed        tMax     Produto      Vendas\n",
              "count  656.000000  656.000000  656.000000  664.000000  664.000000\n",
              "mean    15.634146   20.158537   24.219512    4.500000   28.617470\n",
              "std      2.615119    3.054845    3.371216    2.293015   40.925618\n",
              "min      9.625000   13.750000   16.375000    1.000000    0.000000\n",
              "25%     13.750000   18.125000   22.000000    2.750000    4.000000\n",
              "50%     15.875000   20.187500   24.500000    4.500000   10.000000\n",
              "75%     17.875000   22.250000   25.625000    6.250000   34.000000\n",
              "max     20.000000   26.750000   35.750000    8.000000  208.000000"
            ]
          },
          "metadata": {
            "tags": []
          },
          "execution_count": 5
        }
      ]
    },
    {
      "cell_type": "code",
      "metadata": {
        "id": "Fk_xrh5Utx03",
        "colab": {
          "base_uri": "https://localhost:8080/",
          "height": 593
        },
        "outputId": "73d08c68-cee4-4b8e-ec89-41b550e4764f"
      },
      "source": [
        "plt.figure(figsize=(15,10))\n",
        "sns.scatterplot(x=\"tMed\", y=\"Vendas\", hue='Produto', data=df, palette=\"deep\");"
      ],
      "execution_count": null,
      "outputs": [
        {
          "output_type": "display_data",
          "data": {
            "image/png": "[encoded data removed]",
            "text/plain": [
              "<Figure size 1080x720 with 1 Axes>"
            ]
          },
          "metadata": {
            "tags": [],
            "needs_background": "light"
          }
        }
      ]
    },
    {
      "cell_type": "code",
      "metadata": {
        "id": "ohqzUsyltx3a",
        "colab": {
          "base_uri": "https://localhost:8080/",
          "height": 593
        },
        "outputId": "574cb978-1cab-4740-a094-c4a5f1547a5d"
      },
      "source": [
        "plt.figure(figsize=(15,10))\n",
        "sns.scatterplot(x=\"tMax\", y=\"Vendas\", hue='Produto', data=df, palette=\"deep\");"
      ],
      "execution_count": null,
      "outputs": [
        {
          "output_type": "display_data",
          "data": {
            "image/png": "[encoded data removed]",
            "text/plain": [
              "<Figure size 1080x720 with 1 Axes>"
            ]
          },
          "metadata": {
            "tags": [],
            "needs_background": "light"
          }
        }
      ]
    },
    {
      "cell_type": "code",
      "metadata": {
        "id": "o4floWvCtx54",
        "colab": {
          "base_uri": "https://localhost:8080/",
          "height": 593
        },
        "outputId": "eae0ae40-3079-4a6b-f8a9-7a048a9a5be9"
      },
      "source": [
        "plt.figure(figsize=(15,10))\n",
        "sns.scatterplot(x=\"tMin\", y=\"Vendas\", hue='Produto', data=df, palette=\"deep\");"
      ],
      "execution_count": null,
      "outputs": [
        {
          "output_type": "display_data",
          "data": {
            "image/png": "[encoded data removed]",
            "text/plain": [
              "<Figure size 1080x720 with 1 Axes>"
            ]
          },
          "metadata": {
            "tags": [],
            "needs_background": "light"
          }
        }
      ]
    },
    {
      "cell_type": "code",
      "metadata": {
        "colab": {
          "base_uri": "https://localhost:8080/"
        },
        "id": "y_k0NORudi2s",
        "outputId": "540b0ca4-6b92-4cdf-b034-cc267b20dbbf"
      },
      "source": [
        "df.columns"
      ],
      "execution_count": null,
      "outputs": [
        {
          "output_type": "execute_result",
          "data": {
            "text/plain": [
              "Index(['data', 'tMin', 'tMed', 'tMax', 'precipitacao', 'Produto', 'Vendas'], dtype='object')"
            ]
          },
          "metadata": {
            "tags": []
          },
          "execution_count": 9
        }
      ]
    },
    {
      "cell_type": "code",
      "metadata": {
        "colab": {
          "base_uri": "https://localhost:8080/"
        },
        "id": "xYjveSpjd3Du",
        "outputId": "e4df74e5-bb32-4ecb-9cfe-e67c9b48220d"
      },
      "source": [
        "df.shape"
      ],
      "execution_count": null,
      "outputs": [
        {
          "output_type": "execute_result",
          "data": {
            "text/plain": [
              "(664, 7)"
            ]
          },
          "metadata": {
            "tags": []
          },
          "execution_count": 10
        }
      ]
    },
    {
      "cell_type": "code",
      "metadata": {
        "id": "W4-JO2YMf7rU",
        "colab": {
          "base_uri": "https://localhost:8080/",
          "height": 677
        },
        "outputId": "35776f18-0442-4b80-c5a1-6e99e191ecbf"
      },
      "source": [
        "df['data'] = pd.to_datetime(df['data'])\n",
        "df.head(20)"
      ],
      "execution_count": null,
      "outputs": [
        {
          "output_type": "execute_result",
          "data": {
            "text/html": [
              "<div>\n",
              "<style scoped>\n",
              "    .dataframe tbody tr th:only-of-type {\n",
              "        vertical-align: middle;\n",
              "    }\n",
              "\n",
              "    .dataframe tbody tr th {\n",
              "        vertical-align: top;\n",
              "    }\n",
              "\n",
              "    .dataframe thead th {\n",
              "        text-align: right;\n",
              "    }\n",
              "</style>\n",
              "<table border=\"1\" class=\"dataframe\">\n",
              "  <thead>\n",
              "    <tr style=\"text-align: right;\">\n",
              "      <th></th>\n",
              "      <th>data</th>\n",
              "      <th>tMin</th>\n",
              "      <th>tMed</th>\n",
              "      <th>tMax</th>\n",
              "      <th>precipitacao</th>\n",
              "      <th>Produto</th>\n",
              "      <th>Vendas</th>\n",
              "    </tr>\n",
              "  </thead>\n",
              "  <tbody>\n",
              "    <tr>\n",
              "      <th>0</th>\n",
              "      <td>2018-08-06</td>\n",
              "      <td>NaN</td>\n",
              "      <td>NaN</td>\n",
              "      <td>NaN</td>\n",
              "      <td>4</td>\n",
              "      <td>1</td>\n",
              "      <td>35</td>\n",
              "    </tr>\n",
              "    <tr>\n",
              "      <th>1</th>\n",
              "      <td>2018-08-06</td>\n",
              "      <td>NaN</td>\n",
              "      <td>NaN</td>\n",
              "      <td>NaN</td>\n",
              "      <td>4</td>\n",
              "      <td>2</td>\n",
              "      <td>9</td>\n",
              "    </tr>\n",
              "    <tr>\n",
              "      <th>2</th>\n",
              "      <td>2018-08-06</td>\n",
              "      <td>NaN</td>\n",
              "      <td>NaN</td>\n",
              "      <td>NaN</td>\n",
              "      <td>4</td>\n",
              "      <td>3</td>\n",
              "      <td>6</td>\n",
              "    </tr>\n",
              "    <tr>\n",
              "      <th>3</th>\n",
              "      <td>2018-08-06</td>\n",
              "      <td>NaN</td>\n",
              "      <td>NaN</td>\n",
              "      <td>NaN</td>\n",
              "      <td>4</td>\n",
              "      <td>4</td>\n",
              "      <td>0</td>\n",
              "    </tr>\n",
              "    <tr>\n",
              "      <th>4</th>\n",
              "      <td>2018-08-06</td>\n",
              "      <td>NaN</td>\n",
              "      <td>NaN</td>\n",
              "      <td>NaN</td>\n",
              "      <td>4</td>\n",
              "      <td>5</td>\n",
              "      <td>0</td>\n",
              "    </tr>\n",
              "    <tr>\n",
              "      <th>5</th>\n",
              "      <td>2018-08-06</td>\n",
              "      <td>NaN</td>\n",
              "      <td>NaN</td>\n",
              "      <td>NaN</td>\n",
              "      <td>4</td>\n",
              "      <td>6</td>\n",
              "      <td>0</td>\n",
              "    </tr>\n",
              "    <tr>\n",
              "      <th>6</th>\n",
              "      <td>2018-08-06</td>\n",
              "      <td>NaN</td>\n",
              "      <td>NaN</td>\n",
              "      <td>NaN</td>\n",
              "      <td>4</td>\n",
              "      <td>7</td>\n",
              "      <td>0</td>\n",
              "    </tr>\n",
              "    <tr>\n",
              "      <th>7</th>\n",
              "      <td>2018-08-06</td>\n",
              "      <td>NaN</td>\n",
              "      <td>NaN</td>\n",
              "      <td>NaN</td>\n",
              "      <td>4</td>\n",
              "      <td>8</td>\n",
              "      <td>0</td>\n",
              "    </tr>\n",
              "    <tr>\n",
              "      <th>8</th>\n",
              "      <td>2018-08-13</td>\n",
              "      <td>10.125</td>\n",
              "      <td>14.125</td>\n",
              "      <td>18.125</td>\n",
              "      <td>0</td>\n",
              "      <td>1</td>\n",
              "      <td>101</td>\n",
              "    </tr>\n",
              "    <tr>\n",
              "      <th>9</th>\n",
              "      <td>2018-08-13</td>\n",
              "      <td>10.125</td>\n",
              "      <td>14.125</td>\n",
              "      <td>18.125</td>\n",
              "      <td>0</td>\n",
              "      <td>2</td>\n",
              "      <td>116</td>\n",
              "    </tr>\n",
              "    <tr>\n",
              "      <th>10</th>\n",
              "      <td>2018-08-13</td>\n",
              "      <td>10.125</td>\n",
              "      <td>14.125</td>\n",
              "      <td>18.125</td>\n",
              "      <td>0</td>\n",
              "      <td>3</td>\n",
              "      <td>59</td>\n",
              "    </tr>\n",
              "    <tr>\n",
              "      <th>11</th>\n",
              "      <td>2018-08-13</td>\n",
              "      <td>10.125</td>\n",
              "      <td>14.125</td>\n",
              "      <td>18.125</td>\n",
              "      <td>0</td>\n",
              "      <td>4</td>\n",
              "      <td>4</td>\n",
              "    </tr>\n",
              "    <tr>\n",
              "      <th>12</th>\n",
              "      <td>2018-08-13</td>\n",
              "      <td>10.125</td>\n",
              "      <td>14.125</td>\n",
              "      <td>18.125</td>\n",
              "      <td>0</td>\n",
              "      <td>5</td>\n",
              "      <td>3</td>\n",
              "    </tr>\n",
              "    <tr>\n",
              "      <th>13</th>\n",
              "      <td>2018-08-13</td>\n",
              "      <td>10.125</td>\n",
              "      <td>14.125</td>\n",
              "      <td>18.125</td>\n",
              "      <td>0</td>\n",
              "      <td>6</td>\n",
              "      <td>0</td>\n",
              "    </tr>\n",
              "    <tr>\n",
              "      <th>14</th>\n",
              "      <td>2018-08-13</td>\n",
              "      <td>10.125</td>\n",
              "      <td>14.125</td>\n",
              "      <td>18.125</td>\n",
              "      <td>0</td>\n",
              "      <td>7</td>\n",
              "      <td>0</td>\n",
              "    </tr>\n",
              "    <tr>\n",
              "      <th>15</th>\n",
              "      <td>2018-08-13</td>\n",
              "      <td>10.125</td>\n",
              "      <td>14.125</td>\n",
              "      <td>18.125</td>\n",
              "      <td>0</td>\n",
              "      <td>8</td>\n",
              "      <td>12</td>\n",
              "    </tr>\n",
              "    <tr>\n",
              "      <th>16</th>\n",
              "      <td>2018-08-20</td>\n",
              "      <td>11.375</td>\n",
              "      <td>24.625</td>\n",
              "      <td>26.500</td>\n",
              "      <td>0</td>\n",
              "      <td>1</td>\n",
              "      <td>125</td>\n",
              "    </tr>\n",
              "    <tr>\n",
              "      <th>17</th>\n",
              "      <td>2018-08-20</td>\n",
              "      <td>11.375</td>\n",
              "      <td>24.625</td>\n",
              "      <td>26.500</td>\n",
              "      <td>0</td>\n",
              "      <td>2</td>\n",
              "      <td>30</td>\n",
              "    </tr>\n",
              "    <tr>\n",
              "      <th>18</th>\n",
              "      <td>2018-08-20</td>\n",
              "      <td>11.375</td>\n",
              "      <td>24.625</td>\n",
              "      <td>26.500</td>\n",
              "      <td>0</td>\n",
              "      <td>3</td>\n",
              "      <td>82</td>\n",
              "    </tr>\n",
              "    <tr>\n",
              "      <th>19</th>\n",
              "      <td>2018-08-20</td>\n",
              "      <td>11.375</td>\n",
              "      <td>24.625</td>\n",
              "      <td>26.500</td>\n",
              "      <td>0</td>\n",
              "      <td>4</td>\n",
              "      <td>18</td>\n",
              "    </tr>\n",
              "  </tbody>\n",
              "</table>\n",
              "</div>"
            ],
            "text/plain": [
              "         data    tMin    tMed    tMax precipitacao  Produto  Vendas\n",
              "0  2018-08-06     NaN     NaN     NaN            4        1      35\n",
              "1  2018-08-06     NaN     NaN     NaN            4        2       9\n",
              "2  2018-08-06     NaN     NaN     NaN            4        3       6\n",
              "3  2018-08-06     NaN     NaN     NaN            4        4       0\n",
              "4  2018-08-06     NaN     NaN     NaN            4        5       0\n",
              "5  2018-08-06     NaN     NaN     NaN            4        6       0\n",
              "6  2018-08-06     NaN     NaN     NaN            4        7       0\n",
              "7  2018-08-06     NaN     NaN     NaN            4        8       0\n",
              "8  2018-08-13  10.125  14.125  18.125            0        1     101\n",
              "9  2018-08-13  10.125  14.125  18.125            0        2     116\n",
              "10 2018-08-13  10.125  14.125  18.125            0        3      59\n",
              "11 2018-08-13  10.125  14.125  18.125            0        4       4\n",
              "12 2018-08-13  10.125  14.125  18.125            0        5       3\n",
              "13 2018-08-13  10.125  14.125  18.125            0        6       0\n",
              "14 2018-08-13  10.125  14.125  18.125            0        7       0\n",
              "15 2018-08-13  10.125  14.125  18.125            0        8      12\n",
              "16 2018-08-20  11.375  24.625  26.500            0        1     125\n",
              "17 2018-08-20  11.375  24.625  26.500            0        2      30\n",
              "18 2018-08-20  11.375  24.625  26.500            0        3      82\n",
              "19 2018-08-20  11.375  24.625  26.500            0        4      18"
            ]
          },
          "metadata": {
            "tags": []
          },
          "execution_count": 11
        }
      ]
    },
    {
      "cell_type": "code",
      "metadata": {
        "id": "c7p-UWi_228Y"
      },
      "source": [
        "df['Target'] = df.groupby(by=['Produto'])['Vendas'].shift(0)\n",
        "df['Vendas'] = df.groupby(by=['Produto'])['Vendas'].shift(1)"
      ],
      "execution_count": null,
      "outputs": []
    },
    {
      "cell_type": "code",
      "metadata": {
        "colab": {
          "base_uri": "https://localhost:8080/",
          "height": 990
        },
        "id": "sj7lYqxpYmWd",
        "outputId": "371e4925-43e1-45fd-9f1b-cfd1a083da00"
      },
      "source": [
        "df.head(30)"
      ],
      "execution_count": null,
      "outputs": [
        {
          "output_type": "execute_result",
          "data": {
            "text/html": [
              "<div>\n",
              "<style scoped>\n",
              "    .dataframe tbody tr th:only-of-type {\n",
              "        vertical-align: middle;\n",
              "    }\n",
              "\n",
              "    .dataframe tbody tr th {\n",
              "        vertical-align: top;\n",
              "    }\n",
              "\n",
              "    .dataframe thead th {\n",
              "        text-align: right;\n",
              "    }\n",
              "</style>\n",
              "<table border=\"1\" class=\"dataframe\">\n",
              "  <thead>\n",
              "    <tr style=\"text-align: right;\">\n",
              "      <th></th>\n",
              "      <th>data</th>\n",
              "      <th>tMin</th>\n",
              "      <th>tMed</th>\n",
              "      <th>tMax</th>\n",
              "      <th>precipitacao</th>\n",
              "      <th>Produto</th>\n",
              "      <th>Vendas</th>\n",
              "      <th>Target</th>\n",
              "    </tr>\n",
              "  </thead>\n",
              "  <tbody>\n",
              "    <tr>\n",
              "      <th>0</th>\n",
              "      <td>2018-08-06</td>\n",
              "      <td>NaN</td>\n",
              "      <td>NaN</td>\n",
              "      <td>NaN</td>\n",
              "      <td>4</td>\n",
              "      <td>1</td>\n",
              "      <td>NaN</td>\n",
              "      <td>35</td>\n",
              "    </tr>\n",
              "    <tr>\n",
              "      <th>1</th>\n",
              "      <td>2018-08-06</td>\n",
              "      <td>NaN</td>\n",
              "      <td>NaN</td>\n",
              "      <td>NaN</td>\n",
              "      <td>4</td>\n",
              "      <td>2</td>\n",
              "      <td>NaN</td>\n",
              "      <td>9</td>\n",
              "    </tr>\n",
              "    <tr>\n",
              "      <th>2</th>\n",
              "      <td>2018-08-06</td>\n",
              "      <td>NaN</td>\n",
              "      <td>NaN</td>\n",
              "      <td>NaN</td>\n",
              "      <td>4</td>\n",
              "      <td>3</td>\n",
              "      <td>NaN</td>\n",
              "      <td>6</td>\n",
              "    </tr>\n",
              "    <tr>\n",
              "      <th>3</th>\n",
              "      <td>2018-08-06</td>\n",
              "      <td>NaN</td>\n",
              "      <td>NaN</td>\n",
              "      <td>NaN</td>\n",
              "      <td>4</td>\n",
              "      <td>4</td>\n",
              "      <td>NaN</td>\n",
              "      <td>0</td>\n",
              "    </tr>\n",
              "    <tr>\n",
              "      <th>4</th>\n",
              "      <td>2018-08-06</td>\n",
              "      <td>NaN</td>\n",
              "      <td>NaN</td>\n",
              "      <td>NaN</td>\n",
              "      <td>4</td>\n",
              "      <td>5</td>\n",
              "      <td>NaN</td>\n",
              "      <td>0</td>\n",
              "    </tr>\n",
              "    <tr>\n",
              "      <th>5</th>\n",
              "      <td>2018-08-06</td>\n",
              "      <td>NaN</td>\n",
              "      <td>NaN</td>\n",
              "      <td>NaN</td>\n",
              "      <td>4</td>\n",
              "      <td>6</td>\n",
              "      <td>NaN</td>\n",
              "      <td>0</td>\n",
              "    </tr>\n",
              "    <tr>\n",
              "      <th>6</th>\n",
              "      <td>2018-08-06</td>\n",
              "      <td>NaN</td>\n",
              "      <td>NaN</td>\n",
              "      <td>NaN</td>\n",
              "      <td>4</td>\n",
              "      <td>7</td>\n",
              "      <td>NaN</td>\n",
              "      <td>0</td>\n",
              "    </tr>\n",
              "    <tr>\n",
              "      <th>7</th>\n",
              "      <td>2018-08-06</td>\n",
              "      <td>NaN</td>\n",
              "      <td>NaN</td>\n",
              "      <td>NaN</td>\n",
              "      <td>4</td>\n",
              "      <td>8</td>\n",
              "      <td>NaN</td>\n",
              "      <td>0</td>\n",
              "    </tr>\n",
              "    <tr>\n",
              "      <th>8</th>\n",
              "      <td>2018-08-13</td>\n",
              "      <td>10.125</td>\n",
              "      <td>14.125</td>\n",
              "      <td>18.125</td>\n",
              "      <td>0</td>\n",
              "      <td>1</td>\n",
              "      <td>35.0</td>\n",
              "      <td>101</td>\n",
              "    </tr>\n",
              "    <tr>\n",
              "      <th>9</th>\n",
              "      <td>2018-08-13</td>\n",
              "      <td>10.125</td>\n",
              "      <td>14.125</td>\n",
              "      <td>18.125</td>\n",
              "      <td>0</td>\n",
              "      <td>2</td>\n",
              "      <td>9.0</td>\n",
              "      <td>116</td>\n",
              "    </tr>\n",
              "    <tr>\n",
              "      <th>10</th>\n",
              "      <td>2018-08-13</td>\n",
              "      <td>10.125</td>\n",
              "      <td>14.125</td>\n",
              "      <td>18.125</td>\n",
              "      <td>0</td>\n",
              "      <td>3</td>\n",
              "      <td>6.0</td>\n",
              "      <td>59</td>\n",
              "    </tr>\n",
              "    <tr>\n",
              "      <th>11</th>\n",
              "      <td>2018-08-13</td>\n",
              "      <td>10.125</td>\n",
              "      <td>14.125</td>\n",
              "      <td>18.125</td>\n",
              "      <td>0</td>\n",
              "      <td>4</td>\n",
              "      <td>0.0</td>\n",
              "      <td>4</td>\n",
              "    </tr>\n",
              "    <tr>\n",
              "      <th>12</th>\n",
              "      <td>2018-08-13</td>\n",
              "      <td>10.125</td>\n",
              "      <td>14.125</td>\n",
              "      <td>18.125</td>\n",
              "      <td>0</td>\n",
              "      <td>5</td>\n",
              "      <td>0.0</td>\n",
              "      <td>3</td>\n",
              "    </tr>\n",
              "    <tr>\n",
              "      <th>13</th>\n",
              "      <td>2018-08-13</td>\n",
              "      <td>10.125</td>\n",
              "      <td>14.125</td>\n",
              "      <td>18.125</td>\n",
              "      <td>0</td>\n",
              "      <td>6</td>\n",
              "      <td>0.0</td>\n",
              "      <td>0</td>\n",
              "    </tr>\n",
              "    <tr>\n",
              "      <th>14</th>\n",
              "      <td>2018-08-13</td>\n",
              "      <td>10.125</td>\n",
              "      <td>14.125</td>\n",
              "      <td>18.125</td>\n",
              "      <td>0</td>\n",
              "      <td>7</td>\n",
              "      <td>0.0</td>\n",
              "      <td>0</td>\n",
              "    </tr>\n",
              "    <tr>\n",
              "      <th>15</th>\n",
              "      <td>2018-08-13</td>\n",
              "      <td>10.125</td>\n",
              "      <td>14.125</td>\n",
              "      <td>18.125</td>\n",
              "      <td>0</td>\n",
              "      <td>8</td>\n",
              "      <td>0.0</td>\n",
              "      <td>12</td>\n",
              "    </tr>\n",
              "    <tr>\n",
              "      <th>16</th>\n",
              "      <td>2018-08-20</td>\n",
              "      <td>11.375</td>\n",
              "      <td>24.625</td>\n",
              "      <td>26.500</td>\n",
              "      <td>0</td>\n",
              "      <td>1</td>\n",
              "      <td>101.0</td>\n",
              "      <td>125</td>\n",
              "    </tr>\n",
              "    <tr>\n",
              "      <th>17</th>\n",
              "      <td>2018-08-20</td>\n",
              "      <td>11.375</td>\n",
              "      <td>24.625</td>\n",
              "      <td>26.500</td>\n",
              "      <td>0</td>\n",
              "      <td>2</td>\n",
              "      <td>116.0</td>\n",
              "      <td>30</td>\n",
              "    </tr>\n",
              "    <tr>\n",
              "      <th>18</th>\n",
              "      <td>2018-08-20</td>\n",
              "      <td>11.375</td>\n",
              "      <td>24.625</td>\n",
              "      <td>26.500</td>\n",
              "      <td>0</td>\n",
              "      <td>3</td>\n",
              "      <td>59.0</td>\n",
              "      <td>82</td>\n",
              "    </tr>\n",
              "    <tr>\n",
              "      <th>19</th>\n",
              "      <td>2018-08-20</td>\n",
              "      <td>11.375</td>\n",
              "      <td>24.625</td>\n",
              "      <td>26.500</td>\n",
              "      <td>0</td>\n",
              "      <td>4</td>\n",
              "      <td>4.0</td>\n",
              "      <td>18</td>\n",
              "    </tr>\n",
              "    <tr>\n",
              "      <th>20</th>\n",
              "      <td>2018-08-20</td>\n",
              "      <td>11.375</td>\n",
              "      <td>24.625</td>\n",
              "      <td>26.500</td>\n",
              "      <td>0</td>\n",
              "      <td>5</td>\n",
              "      <td>3.0</td>\n",
              "      <td>24</td>\n",
              "    </tr>\n",
              "    <tr>\n",
              "      <th>21</th>\n",
              "      <td>2018-08-20</td>\n",
              "      <td>11.375</td>\n",
              "      <td>24.625</td>\n",
              "      <td>26.500</td>\n",
              "      <td>0</td>\n",
              "      <td>6</td>\n",
              "      <td>0.0</td>\n",
              "      <td>0</td>\n",
              "    </tr>\n",
              "    <tr>\n",
              "      <th>22</th>\n",
              "      <td>2018-08-20</td>\n",
              "      <td>11.375</td>\n",
              "      <td>24.625</td>\n",
              "      <td>26.500</td>\n",
              "      <td>0</td>\n",
              "      <td>7</td>\n",
              "      <td>0.0</td>\n",
              "      <td>2</td>\n",
              "    </tr>\n",
              "    <tr>\n",
              "      <th>23</th>\n",
              "      <td>2018-08-20</td>\n",
              "      <td>11.375</td>\n",
              "      <td>24.625</td>\n",
              "      <td>26.500</td>\n",
              "      <td>0</td>\n",
              "      <td>8</td>\n",
              "      <td>12.0</td>\n",
              "      <td>24</td>\n",
              "    </tr>\n",
              "    <tr>\n",
              "      <th>24</th>\n",
              "      <td>2018-08-27</td>\n",
              "      <td>13.000</td>\n",
              "      <td>17.250</td>\n",
              "      <td>21.250</td>\n",
              "      <td>0</td>\n",
              "      <td>1</td>\n",
              "      <td>125.0</td>\n",
              "      <td>82</td>\n",
              "    </tr>\n",
              "    <tr>\n",
              "      <th>25</th>\n",
              "      <td>2018-08-27</td>\n",
              "      <td>13.000</td>\n",
              "      <td>17.250</td>\n",
              "      <td>21.250</td>\n",
              "      <td>0</td>\n",
              "      <td>2</td>\n",
              "      <td>30.0</td>\n",
              "      <td>29</td>\n",
              "    </tr>\n",
              "    <tr>\n",
              "      <th>26</th>\n",
              "      <td>2018-08-27</td>\n",
              "      <td>13.000</td>\n",
              "      <td>17.250</td>\n",
              "      <td>21.250</td>\n",
              "      <td>0</td>\n",
              "      <td>3</td>\n",
              "      <td>82.0</td>\n",
              "      <td>60</td>\n",
              "    </tr>\n",
              "    <tr>\n",
              "      <th>27</th>\n",
              "      <td>2018-08-27</td>\n",
              "      <td>13.000</td>\n",
              "      <td>17.250</td>\n",
              "      <td>21.250</td>\n",
              "      <td>0</td>\n",
              "      <td>4</td>\n",
              "      <td>18.0</td>\n",
              "      <td>4</td>\n",
              "    </tr>\n",
              "    <tr>\n",
              "      <th>28</th>\n",
              "      <td>2018-08-27</td>\n",
              "      <td>13.000</td>\n",
              "      <td>17.250</td>\n",
              "      <td>21.250</td>\n",
              "      <td>0</td>\n",
              "      <td>5</td>\n",
              "      <td>24.0</td>\n",
              "      <td>4</td>\n",
              "    </tr>\n",
              "    <tr>\n",
              "      <th>29</th>\n",
              "      <td>2018-08-27</td>\n",
              "      <td>13.000</td>\n",
              "      <td>17.250</td>\n",
              "      <td>21.250</td>\n",
              "      <td>0</td>\n",
              "      <td>6</td>\n",
              "      <td>0.0</td>\n",
              "      <td>0</td>\n",
              "    </tr>\n",
              "  </tbody>\n",
              "</table>\n",
              "</div>"
            ],
            "text/plain": [
              "         data    tMin    tMed    tMax precipitacao  Produto  Vendas  Target\n",
              "0  2018-08-06     NaN     NaN     NaN            4        1     NaN      35\n",
              "1  2018-08-06     NaN     NaN     NaN            4        2     NaN       9\n",
              "2  2018-08-06     NaN     NaN     NaN            4        3     NaN       6\n",
              "3  2018-08-06     NaN     NaN     NaN            4        4     NaN       0\n",
              "4  2018-08-06     NaN     NaN     NaN            4        5     NaN       0\n",
              "5  2018-08-06     NaN     NaN     NaN            4        6     NaN       0\n",
              "6  2018-08-06     NaN     NaN     NaN            4        7     NaN       0\n",
              "7  2018-08-06     NaN     NaN     NaN            4        8     NaN       0\n",
              "8  2018-08-13  10.125  14.125  18.125            0        1    35.0     101\n",
              "9  2018-08-13  10.125  14.125  18.125            0        2     9.0     116\n",
              "10 2018-08-13  10.125  14.125  18.125            0        3     6.0      59\n",
              "11 2018-08-13  10.125  14.125  18.125            0        4     0.0       4\n",
              "12 2018-08-13  10.125  14.125  18.125            0        5     0.0       3\n",
              "13 2018-08-13  10.125  14.125  18.125            0        6     0.0       0\n",
              "14 2018-08-13  10.125  14.125  18.125            0        7     0.0       0\n",
              "15 2018-08-13  10.125  14.125  18.125            0        8     0.0      12\n",
              "16 2018-08-20  11.375  24.625  26.500            0        1   101.0     125\n",
              "17 2018-08-20  11.375  24.625  26.500            0        2   116.0      30\n",
              "18 2018-08-20  11.375  24.625  26.500            0        3    59.0      82\n",
              "19 2018-08-20  11.375  24.625  26.500            0        4     4.0      18\n",
              "20 2018-08-20  11.375  24.625  26.500            0        5     3.0      24\n",
              "21 2018-08-20  11.375  24.625  26.500            0        6     0.0       0\n",
              "22 2018-08-20  11.375  24.625  26.500            0        7     0.0       2\n",
              "23 2018-08-20  11.375  24.625  26.500            0        8    12.0      24\n",
              "24 2018-08-27  13.000  17.250  21.250            0        1   125.0      82\n",
              "25 2018-08-27  13.000  17.250  21.250            0        2    30.0      29\n",
              "26 2018-08-27  13.000  17.250  21.250            0        3    82.0      60\n",
              "27 2018-08-27  13.000  17.250  21.250            0        4    18.0       4\n",
              "28 2018-08-27  13.000  17.250  21.250            0        5    24.0       4\n",
              "29 2018-08-27  13.000  17.250  21.250            0        6     0.0       0"
            ]
          },
          "metadata": {
            "tags": []
          },
          "execution_count": 13
        }
      ]
    },
    {
      "cell_type": "code",
      "metadata": {
        "id": "0wNZwOKo7Kxd"
      },
      "source": [
        "df.dropna(inplace=True)"
      ],
      "execution_count": null,
      "outputs": []
    },
    {
      "cell_type": "code",
      "metadata": {
        "colab": {
          "base_uri": "https://localhost:8080/",
          "height": 612
        },
        "id": "KgJCsOqK1OMP",
        "outputId": "f479165d-59b3-4ee2-a0ac-3ddedc3da82f"
      },
      "source": [
        "plt.figure(figsize=(15,10))\n",
        "sns.heatmap(df.corr(), annot=True)"
      ],
      "execution_count": null,
      "outputs": [
        {
          "output_type": "execute_result",
          "data": {
            "text/plain": [
              "<matplotlib.axes._subplots.AxesSubplot at 0x7fc74e809510>"
            ]
          },
          "metadata": {
            "tags": []
          },
          "execution_count": 15
        },
        {
          "output_type": "display_data",
          "data": {
            "image/png": "[encoded data removed]",
            "text/plain": [
              "<Figure size 1080x720 with 2 Axes>"
            ]
          },
          "metadata": {
            "tags": [],
            "needs_background": "light"
          }
        }
      ]
    },
    {
      "cell_type": "code",
      "metadata": {
        "id": "yQal02vqbBbp"
      },
      "source": [
        "df2 = df.loc[(df.Produto == 1) | (df.Produto == 2) | (df.Produto == 4) | (df.Produto == 5) | (df.Produto == 6)]"
      ],
      "execution_count": null,
      "outputs": []
    },
    {
      "cell_type": "code",
      "metadata": {
        "colab": {
          "base_uri": "https://localhost:8080/"
        },
        "id": "xA5H6XhtSVNC",
        "outputId": "00eccd76-a110-4854-ae04-b831eb2b30f6"
      },
      "source": [
        "len(df2)"
      ],
      "execution_count": null,
      "outputs": [
        {
          "output_type": "execute_result",
          "data": {
            "text/plain": [
              "410"
            ]
          },
          "metadata": {
            "tags": []
          },
          "execution_count": 17
        }
      ]
    },
    {
      "cell_type": "code",
      "metadata": {
        "id": "yIAFEeDud1z1"
      },
      "source": [
        "train = df2.iloc[:280]\n",
        "val = df2.iloc[280:]"
      ],
      "execution_count": null,
      "outputs": []
    },
    {
      "cell_type": "code",
      "metadata": {
        "colab": {
          "base_uri": "https://localhost:8080/",
          "height": 424
        },
        "id": "wwqG3UJJbL5X",
        "outputId": "7b6aca09-2b9d-47c4-9066-7549d4a6e3da"
      },
      "source": [
        "train"
      ],
      "execution_count": null,
      "outputs": [
        {
          "output_type": "execute_result",
          "data": {
            "text/html": [
              "<div>\n",
              "<style scoped>\n",
              "    .dataframe tbody tr th:only-of-type {\n",
              "        vertical-align: middle;\n",
              "    }\n",
              "\n",
              "    .dataframe tbody tr th {\n",
              "        vertical-align: top;\n",
              "    }\n",
              "\n",
              "    .dataframe thead th {\n",
              "        text-align: right;\n",
              "    }\n",
              "</style>\n",
              "<table border=\"1\" class=\"dataframe\">\n",
              "  <thead>\n",
              "    <tr style=\"text-align: right;\">\n",
              "      <th></th>\n",
              "      <th>data</th>\n",
              "      <th>tMin</th>\n",
              "      <th>tMed</th>\n",
              "      <th>tMax</th>\n",
              "      <th>precipitacao</th>\n",
              "      <th>Produto</th>\n",
              "      <th>Vendas</th>\n",
              "      <th>Target</th>\n",
              "    </tr>\n",
              "  </thead>\n",
              "  <tbody>\n",
              "    <tr>\n",
              "      <th>8</th>\n",
              "      <td>2018-08-13</td>\n",
              "      <td>10.125</td>\n",
              "      <td>14.125</td>\n",
              "      <td>18.125</td>\n",
              "      <td>0</td>\n",
              "      <td>1</td>\n",
              "      <td>35.0</td>\n",
              "      <td>101</td>\n",
              "    </tr>\n",
              "    <tr>\n",
              "      <th>9</th>\n",
              "      <td>2018-08-13</td>\n",
              "      <td>10.125</td>\n",
              "      <td>14.125</td>\n",
              "      <td>18.125</td>\n",
              "      <td>0</td>\n",
              "      <td>2</td>\n",
              "      <td>9.0</td>\n",
              "      <td>116</td>\n",
              "    </tr>\n",
              "    <tr>\n",
              "      <th>11</th>\n",
              "      <td>2018-08-13</td>\n",
              "      <td>10.125</td>\n",
              "      <td>14.125</td>\n",
              "      <td>18.125</td>\n",
              "      <td>0</td>\n",
              "      <td>4</td>\n",
              "      <td>0.0</td>\n",
              "      <td>4</td>\n",
              "    </tr>\n",
              "    <tr>\n",
              "      <th>12</th>\n",
              "      <td>2018-08-13</td>\n",
              "      <td>10.125</td>\n",
              "      <td>14.125</td>\n",
              "      <td>18.125</td>\n",
              "      <td>0</td>\n",
              "      <td>5</td>\n",
              "      <td>0.0</td>\n",
              "      <td>3</td>\n",
              "    </tr>\n",
              "    <tr>\n",
              "      <th>13</th>\n",
              "      <td>2018-08-13</td>\n",
              "      <td>10.125</td>\n",
              "      <td>14.125</td>\n",
              "      <td>18.125</td>\n",
              "      <td>0</td>\n",
              "      <td>6</td>\n",
              "      <td>0.0</td>\n",
              "      <td>0</td>\n",
              "    </tr>\n",
              "    <tr>\n",
              "      <th>...</th>\n",
              "      <td>...</td>\n",
              "      <td>...</td>\n",
              "      <td>...</td>\n",
              "      <td>...</td>\n",
              "      <td>...</td>\n",
              "      <td>...</td>\n",
              "      <td>...</td>\n",
              "      <td>...</td>\n",
              "    </tr>\n",
              "    <tr>\n",
              "      <th>448</th>\n",
              "      <td>2019-09-02</td>\n",
              "      <td>13.000</td>\n",
              "      <td>17.500</td>\n",
              "      <td>22.000</td>\n",
              "      <td>81</td>\n",
              "      <td>1</td>\n",
              "      <td>121.0</td>\n",
              "      <td>90</td>\n",
              "    </tr>\n",
              "    <tr>\n",
              "      <th>449</th>\n",
              "      <td>2019-09-02</td>\n",
              "      <td>13.000</td>\n",
              "      <td>17.500</td>\n",
              "      <td>22.000</td>\n",
              "      <td>81</td>\n",
              "      <td>2</td>\n",
              "      <td>94.0</td>\n",
              "      <td>34</td>\n",
              "    </tr>\n",
              "    <tr>\n",
              "      <th>451</th>\n",
              "      <td>2019-09-02</td>\n",
              "      <td>13.000</td>\n",
              "      <td>17.500</td>\n",
              "      <td>22.000</td>\n",
              "      <td>81</td>\n",
              "      <td>4</td>\n",
              "      <td>11.0</td>\n",
              "      <td>1</td>\n",
              "    </tr>\n",
              "    <tr>\n",
              "      <th>452</th>\n",
              "      <td>2019-09-02</td>\n",
              "      <td>13.000</td>\n",
              "      <td>17.500</td>\n",
              "      <td>22.000</td>\n",
              "      <td>81</td>\n",
              "      <td>5</td>\n",
              "      <td>15.0</td>\n",
              "      <td>4</td>\n",
              "    </tr>\n",
              "    <tr>\n",
              "      <th>453</th>\n",
              "      <td>2019-09-02</td>\n",
              "      <td>13.000</td>\n",
              "      <td>17.500</td>\n",
              "      <td>22.000</td>\n",
              "      <td>81</td>\n",
              "      <td>6</td>\n",
              "      <td>42.0</td>\n",
              "      <td>0</td>\n",
              "    </tr>\n",
              "  </tbody>\n",
              "</table>\n",
              "<p>280 rows × 8 columns</p>\n",
              "</div>"
            ],
            "text/plain": [
              "          data    tMin    tMed    tMax precipitacao  Produto  Vendas  Target\n",
              "8   2018-08-13  10.125  14.125  18.125            0        1    35.0     101\n",
              "9   2018-08-13  10.125  14.125  18.125            0        2     9.0     116\n",
              "11  2018-08-13  10.125  14.125  18.125            0        4     0.0       4\n",
              "12  2018-08-13  10.125  14.125  18.125            0        5     0.0       3\n",
              "13  2018-08-13  10.125  14.125  18.125            0        6     0.0       0\n",
              "..         ...     ...     ...     ...          ...      ...     ...     ...\n",
              "448 2019-09-02  13.000  17.500  22.000           81        1   121.0      90\n",
              "449 2019-09-02  13.000  17.500  22.000           81        2    94.0      34\n",
              "451 2019-09-02  13.000  17.500  22.000           81        4    11.0       1\n",
              "452 2019-09-02  13.000  17.500  22.000           81        5    15.0       4\n",
              "453 2019-09-02  13.000  17.500  22.000           81        6    42.0       0\n",
              "\n",
              "[280 rows x 8 columns]"
            ]
          },
          "metadata": {
            "tags": []
          },
          "execution_count": 19
        }
      ]
    },
    {
      "cell_type": "code",
      "metadata": {
        "colab": {
          "base_uri": "https://localhost:8080/"
        },
        "id": "I07phvsRdZJi",
        "outputId": "2abee9eb-4837-41de-97ed-4e35d5c2687d"
      },
      "source": [
        "from lightgbm import LGBMRegressor\n",
        "from sklearn.metrics import median_absolute_error\n",
        "\n",
        "features = ['Produto', 'Vendas', 'tMin', 'tMed', 'tMax']\n",
        "\n",
        "regr = LGBMRegressor(n_estimators = 100)\n",
        "regr.fit(train[features].fillna(-1), train['Target'])\n",
        "median_absolute_error(val['Target'], regr.predict(val[features].fillna(-1)))"
      ],
      "execution_count": null,
      "outputs": [
        {
          "output_type": "execute_result",
          "data": {
            "text/plain": [
              "8.078173062114761"
            ]
          },
          "metadata": {
            "tags": []
          },
          "execution_count": 20
        }
      ]
    },
    {
      "cell_type": "code",
      "metadata": {
        "colab": {
          "base_uri": "https://localhost:8080/"
        },
        "id": "O6lKCd_GXkE2",
        "outputId": "e5e22556-3081-4401-aff5-723b53510ddf"
      },
      "source": [
        "regr.predict(val[features].fillna(-1))"
      ],
      "execution_count": null,
      "outputs": [
        {
          "output_type": "execute_result",
          "data": {
            "text/plain": [
              "array([ 1.28155419e+02,  4.20445114e+01,  1.97375477e+00,  7.94108080e+00,\n",
              "        5.37954390e+00,  1.19630133e+02,  4.33247787e+01,  7.75969433e+00,\n",
              "        4.62127754e+00,  4.89314057e+00,  1.57608720e+02,  3.99533786e+01,\n",
              "        6.64601435e+00,  2.81806309e+00,  2.17357930e+00,  1.16987339e+02,\n",
              "        5.75403322e+01,  6.19332265e+00,  5.51184658e+00,  1.29237248e+01,\n",
              "        1.43798546e+02,  3.80581937e+01,  1.23298812e+00,  2.85958202e+00,\n",
              "        4.94845378e+00,  1.28266174e+02,  2.84737992e+01,  4.61448197e+00,\n",
              "        3.25636449e+00,  1.92613077e+00,  1.63377754e+02,  5.05524546e+01,\n",
              "        7.50603034e+00,  7.28680586e+00,  4.88596395e+00,  1.29450589e+02,\n",
              "        2.96051527e+01,  1.21803057e+00,  2.44425887e+00,  2.55310156e+00,\n",
              "        1.32697597e+02,  4.51156914e+01,  4.47719606e+00,  1.93452891e+00,\n",
              "        1.91992905e+00,  1.52038928e+02,  4.09264826e+01,  7.34931665e+00,\n",
              "        8.63341828e+00,  3.55818396e+00,  1.11565448e+02,  4.44550856e+01,\n",
              "        2.55306283e+00,  3.47247875e+00,  7.71723254e+00,  1.61758196e+02,\n",
              "        5.37839423e+01,  8.09816579e+00,  5.81542423e+00,  5.55606060e+00,\n",
              "        1.36116498e+02,  4.92407951e+01,  3.67571397e+00,  2.93945216e+00,\n",
              "        2.81333788e+00,  1.53930572e+02,  3.50618286e+01,  5.40682473e+00,\n",
              "        4.49835598e+00,  2.23674814e+00,  1.14225421e+02,  2.36796103e+01,\n",
              "        7.28437078e+00,  2.44504613e+00,  3.58770747e+00,  1.16700429e+02,\n",
              "        4.09257626e+01,  1.21414495e+01,  9.58515542e+00,  1.31112653e+01,\n",
              "        1.43970867e+02,  4.42990901e+01,  8.65231490e+00,  6.69420973e+00,\n",
              "        5.78576114e+00,  1.34876335e+02,  3.97956907e+01,  7.17296694e+00,\n",
              "        5.84628070e+00,  3.98889898e+00,  1.09731362e+02,  3.79039771e+01,\n",
              "        2.30101304e+00,  3.43631829e-02,  2.14991728e+00,  1.25645043e+02,\n",
              "        3.21319333e+01,  6.10667467e+00,  7.85117822e+00,  2.34964432e+00,\n",
              "        1.33530788e+02,  3.64324454e+01,  4.95314978e+00,  3.83380293e+00,\n",
              "        5.18814103e+00,  1.45867064e+02,  4.22106032e+01,  4.18357655e+00,\n",
              "        1.81040735e+00,  1.63308889e+01,  1.05425544e+02,  3.61163958e+01,\n",
              "        5.33106565e+00,  2.24595315e+00,  1.13254771e+00,  1.15908303e+02,\n",
              "        3.20505133e+01,  2.93317694e+00,  1.77374970e+00,  7.21653051e+00,\n",
              "        1.10962166e+02,  2.28224129e+01,  4.22407425e+00, -9.65159822e-03,\n",
              "       -2.37771503e+00,  1.37062162e+02,  6.70253693e+01,  8.43294806e+00,\n",
              "        6.80448678e+00,  1.17917847e+01])"
            ]
          },
          "metadata": {
            "tags": []
          },
          "execution_count": 21
        }
      ]
    },
    {
      "cell_type": "code",
      "metadata": {
        "colab": {
          "base_uri": "https://localhost:8080/"
        },
        "id": "k5vPGCkoJ9OO",
        "outputId": "7ed13161-4e8b-4534-d79d-c599037b96fd"
      },
      "source": [
        "print(median_absolute_error(val['Target'], val['Vendas']))"
      ],
      "execution_count": null,
      "outputs": [
        {
          "output_type": "stream",
          "text": [
            "9.5\n"
          ],
          "name": "stdout"
        }
      ]
    },
    {
      "cell_type": "markdown",
      "metadata": {
        "id": "z-p5LcRBez6X"
      },
      "source": [
        "Baseline - 9.50\n",
        "\n"
      ]
    },
    {
      "cell_type": "code",
      "metadata": {
        "id": "doEKLaOmcori"
      },
      "source": [
        "train2 = train.copy().reset_index(drop=True)\n",
        "val2 = val.copy().reset_index(drop=True)\n",
        "\n",
        "train2['meses'] = train2['data'].apply(lambda x: x.strftime('%m')).astype(float)\n",
        "train2['semana'] = train2['data'].apply(lambda x: x.strftime('%W')).astype(float)\n",
        "train2['dias'] = train2['data'].apply(lambda x: x.strftime('%d')).astype(float)\n",
        "\n",
        "val2['meses'] = val2['data'].apply(lambda x: x.strftime('%m')).astype(float)\n",
        "val2['semana'] = val2['data'].apply(lambda x: x.strftime('%W')).astype(float)\n",
        "val2['dias'] = val2['data'].apply(lambda x: x.strftime('%d')).astype(float)"
      ],
      "execution_count": null,
      "outputs": []
    },
    {
      "cell_type": "code",
      "metadata": {
        "colab": {
          "base_uri": "https://localhost:8080/",
          "height": 424
        },
        "id": "Zbmln5YXzM8e",
        "outputId": "c0690f5e-d8a5-43bc-fd69-173a44868f20"
      },
      "source": [
        "train2"
      ],
      "execution_count": null,
      "outputs": [
        {
          "output_type": "execute_result",
          "data": {
            "text/html": [
              "<div>\n",
              "<style scoped>\n",
              "    .dataframe tbody tr th:only-of-type {\n",
              "        vertical-align: middle;\n",
              "    }\n",
              "\n",
              "    .dataframe tbody tr th {\n",
              "        vertical-align: top;\n",
              "    }\n",
              "\n",
              "    .dataframe thead th {\n",
              "        text-align: right;\n",
              "    }\n",
              "</style>\n",
              "<table border=\"1\" class=\"dataframe\">\n",
              "  <thead>\n",
              "    <tr style=\"text-align: right;\">\n",
              "      <th></th>\n",
              "      <th>data</th>\n",
              "      <th>tMin</th>\n",
              "      <th>tMed</th>\n",
              "      <th>tMax</th>\n",
              "      <th>precipitacao</th>\n",
              "      <th>Produto</th>\n",
              "      <th>Vendas</th>\n",
              "      <th>Target</th>\n",
              "      <th>meses</th>\n",
              "      <th>semana</th>\n",
              "      <th>dias</th>\n",
              "    </tr>\n",
              "  </thead>\n",
              "  <tbody>\n",
              "    <tr>\n",
              "      <th>0</th>\n",
              "      <td>2018-08-13</td>\n",
              "      <td>10.125</td>\n",
              "      <td>14.125</td>\n",
              "      <td>18.125</td>\n",
              "      <td>0</td>\n",
              "      <td>1</td>\n",
              "      <td>35.0</td>\n",
              "      <td>101</td>\n",
              "      <td>8.0</td>\n",
              "      <td>33.0</td>\n",
              "      <td>13.0</td>\n",
              "    </tr>\n",
              "    <tr>\n",
              "      <th>1</th>\n",
              "      <td>2018-08-13</td>\n",
              "      <td>10.125</td>\n",
              "      <td>14.125</td>\n",
              "      <td>18.125</td>\n",
              "      <td>0</td>\n",
              "      <td>2</td>\n",
              "      <td>9.0</td>\n",
              "      <td>116</td>\n",
              "      <td>8.0</td>\n",
              "      <td>33.0</td>\n",
              "      <td>13.0</td>\n",
              "    </tr>\n",
              "    <tr>\n",
              "      <th>2</th>\n",
              "      <td>2018-08-13</td>\n",
              "      <td>10.125</td>\n",
              "      <td>14.125</td>\n",
              "      <td>18.125</td>\n",
              "      <td>0</td>\n",
              "      <td>4</td>\n",
              "      <td>0.0</td>\n",
              "      <td>4</td>\n",
              "      <td>8.0</td>\n",
              "      <td>33.0</td>\n",
              "      <td>13.0</td>\n",
              "    </tr>\n",
              "    <tr>\n",
              "      <th>3</th>\n",
              "      <td>2018-08-13</td>\n",
              "      <td>10.125</td>\n",
              "      <td>14.125</td>\n",
              "      <td>18.125</td>\n",
              "      <td>0</td>\n",
              "      <td>5</td>\n",
              "      <td>0.0</td>\n",
              "      <td>3</td>\n",
              "      <td>8.0</td>\n",
              "      <td>33.0</td>\n",
              "      <td>13.0</td>\n",
              "    </tr>\n",
              "    <tr>\n",
              "      <th>4</th>\n",
              "      <td>2018-08-13</td>\n",
              "      <td>10.125</td>\n",
              "      <td>14.125</td>\n",
              "      <td>18.125</td>\n",
              "      <td>0</td>\n",
              "      <td>6</td>\n",
              "      <td>0.0</td>\n",
              "      <td>0</td>\n",
              "      <td>8.0</td>\n",
              "      <td>33.0</td>\n",
              "      <td>13.0</td>\n",
              "    </tr>\n",
              "    <tr>\n",
              "      <th>...</th>\n",
              "      <td>...</td>\n",
              "      <td>...</td>\n",
              "      <td>...</td>\n",
              "      <td>...</td>\n",
              "      <td>...</td>\n",
              "      <td>...</td>\n",
              "      <td>...</td>\n",
              "      <td>...</td>\n",
              "      <td>...</td>\n",
              "      <td>...</td>\n",
              "      <td>...</td>\n",
              "    </tr>\n",
              "    <tr>\n",
              "      <th>275</th>\n",
              "      <td>2019-09-02</td>\n",
              "      <td>13.000</td>\n",
              "      <td>17.500</td>\n",
              "      <td>22.000</td>\n",
              "      <td>81</td>\n",
              "      <td>1</td>\n",
              "      <td>121.0</td>\n",
              "      <td>90</td>\n",
              "      <td>9.0</td>\n",
              "      <td>35.0</td>\n",
              "      <td>2.0</td>\n",
              "    </tr>\n",
              "    <tr>\n",
              "      <th>276</th>\n",
              "      <td>2019-09-02</td>\n",
              "      <td>13.000</td>\n",
              "      <td>17.500</td>\n",
              "      <td>22.000</td>\n",
              "      <td>81</td>\n",
              "      <td>2</td>\n",
              "      <td>94.0</td>\n",
              "      <td>34</td>\n",
              "      <td>9.0</td>\n",
              "      <td>35.0</td>\n",
              "      <td>2.0</td>\n",
              "    </tr>\n",
              "    <tr>\n",
              "      <th>277</th>\n",
              "      <td>2019-09-02</td>\n",
              "      <td>13.000</td>\n",
              "      <td>17.500</td>\n",
              "      <td>22.000</td>\n",
              "      <td>81</td>\n",
              "      <td>4</td>\n",
              "      <td>11.0</td>\n",
              "      <td>1</td>\n",
              "      <td>9.0</td>\n",
              "      <td>35.0</td>\n",
              "      <td>2.0</td>\n",
              "    </tr>\n",
              "    <tr>\n",
              "      <th>278</th>\n",
              "      <td>2019-09-02</td>\n",
              "      <td>13.000</td>\n",
              "      <td>17.500</td>\n",
              "      <td>22.000</td>\n",
              "      <td>81</td>\n",
              "      <td>5</td>\n",
              "      <td>15.0</td>\n",
              "      <td>4</td>\n",
              "      <td>9.0</td>\n",
              "      <td>35.0</td>\n",
              "      <td>2.0</td>\n",
              "    </tr>\n",
              "    <tr>\n",
              "      <th>279</th>\n",
              "      <td>2019-09-02</td>\n",
              "      <td>13.000</td>\n",
              "      <td>17.500</td>\n",
              "      <td>22.000</td>\n",
              "      <td>81</td>\n",
              "      <td>6</td>\n",
              "      <td>42.0</td>\n",
              "      <td>0</td>\n",
              "      <td>9.0</td>\n",
              "      <td>35.0</td>\n",
              "      <td>2.0</td>\n",
              "    </tr>\n",
              "  </tbody>\n",
              "</table>\n",
              "<p>280 rows × 11 columns</p>\n",
              "</div>"
            ],
            "text/plain": [
              "          data    tMin    tMed    tMax  ... Target  meses  semana  dias\n",
              "0   2018-08-13  10.125  14.125  18.125  ...    101    8.0    33.0  13.0\n",
              "1   2018-08-13  10.125  14.125  18.125  ...    116    8.0    33.0  13.0\n",
              "2   2018-08-13  10.125  14.125  18.125  ...      4    8.0    33.0  13.0\n",
              "3   2018-08-13  10.125  14.125  18.125  ...      3    8.0    33.0  13.0\n",
              "4   2018-08-13  10.125  14.125  18.125  ...      0    8.0    33.0  13.0\n",
              "..         ...     ...     ...     ...  ...    ...    ...     ...   ...\n",
              "275 2019-09-02  13.000  17.500  22.000  ...     90    9.0    35.0   2.0\n",
              "276 2019-09-02  13.000  17.500  22.000  ...     34    9.0    35.0   2.0\n",
              "277 2019-09-02  13.000  17.500  22.000  ...      1    9.0    35.0   2.0\n",
              "278 2019-09-02  13.000  17.500  22.000  ...      4    9.0    35.0   2.0\n",
              "279 2019-09-02  13.000  17.500  22.000  ...      0    9.0    35.0   2.0\n",
              "\n",
              "[280 rows x 11 columns]"
            ]
          },
          "metadata": {
            "tags": []
          },
          "execution_count": 24
        }
      ]
    },
    {
      "cell_type": "code",
      "metadata": {
        "colab": {
          "base_uri": "https://localhost:8080/",
          "height": 612
        },
        "id": "weeMJE7i6LAn",
        "outputId": "514a8148-68f4-4c7d-ae4c-f78f806d50d4"
      },
      "source": [
        "plt.figure(figsize=(15,10))\n",
        "sns.heatmap(val2.corr(), annot=True)"
      ],
      "execution_count": null,
      "outputs": [
        {
          "output_type": "execute_result",
          "data": {
            "text/plain": [
              "<matplotlib.axes._subplots.AxesSubplot at 0x7fc742157e10>"
            ]
          },
          "metadata": {
            "tags": []
          },
          "execution_count": 25
        },
        {
          "output_type": "display_data",
          "data": {
            "image/png": "[encoded data removed]",
            "text/plain": [
              "<Figure size 1080x720 with 2 Axes>"
            ]
          },
          "metadata": {
            "tags": [],
            "needs_background": "light"
          }
        }
      ]
    },
    {
      "cell_type": "code",
      "metadata": {
        "colab": {
          "base_uri": "https://localhost:8080/",
          "height": 593
        },
        "id": "S1kaHnyuFfhZ",
        "outputId": "de271b7c-c3f3-496d-ec11-67d873abef68"
      },
      "source": [
        "plt.figure(figsize=(15,10))\n",
        "sns.barplot(x=\"meses\", y=\"Vendas\", hue='Produto', data=train2, palette=\"deep\");"
      ],
      "execution_count": null,
      "outputs": [
        {
          "output_type": "display_data",
          "data": {
            "image/png": "[encoded data removed]",
            "text/plain": [
              "<Figure size 1080x720 with 1 Axes>"
            ]
          },
          "metadata": {
            "tags": [],
            "needs_background": "light"
          }
        }
      ]
    },
    {
      "cell_type": "code",
      "metadata": {
        "colab": {
          "base_uri": "https://localhost:8080/",
          "height": 597
        },
        "id": "0zKXzTDZQjYL",
        "outputId": "b8267749-a5d0-49f4-ecb5-4d0d760ef0b3"
      },
      "source": [
        "plt.figure(figsize=(15,10))\n",
        "sns.barplot(x=\"meses\", y=\"tMed\", data=train2, palette=\"deep\");"
      ],
      "execution_count": null,
      "outputs": [
        {
          "output_type": "display_data",
          "data": {
            "image/png": "[encoded data removed]",
            "text/plain": [
              "<Figure size 1080x720 with 1 Axes>"
            ]
          },
          "metadata": {
            "tags": [],
            "needs_background": "light"
          }
        }
      ]
    },
    {
      "cell_type": "code",
      "metadata": {
        "colab": {
          "base_uri": "https://localhost:8080/"
        },
        "id": "2UEPifM9cot-",
        "outputId": "ee0e7b2d-89eb-46ea-ca60-a3f9f617cb90"
      },
      "source": [
        "features = ['tMin', 'tMed', 'tMax', 'Produto', 'meses', 'semana', 'dias', 'Vendas']\n",
        "\n",
        "regr = LGBMRegressor(n_estimators = 1000)\n",
        "regr.fit(train2[features].fillna(-1), train2['Target'])\n",
        "median_absolute_error(val2['Target'], regr.predict(val2[features].fillna(-1)))"
      ],
      "execution_count": null,
      "outputs": [
        {
          "output_type": "execute_result",
          "data": {
            "text/plain": [
              "9.334555433889886"
            ]
          },
          "metadata": {
            "tags": []
          },
          "execution_count": 28
        }
      ]
    },
    {
      "cell_type": "markdown",
      "metadata": {
        "id": "-uVk2xPFyZnY"
      },
      "source": [
        "1. Lag"
      ]
    },
    {
      "cell_type": "code",
      "metadata": {
        "id": "A0B2NdHHcowj"
      },
      "source": [
        "lags = [1,2,3]\n",
        "\n",
        "train2 = list()\n",
        "new_features = set()\n",
        "\n",
        "features = ['Vendas', 'tMin', 'tMed', 'tMax']\n",
        "\n",
        "for source_key, source_key_df in train.groupby(\"Produto\"):\n",
        "    source_key_df = source_key_df.copy()\n",
        "    for f in features:\n",
        "        for l in lags:\n",
        "            new_features.add('LAG{}_{}'.format(l, f))\n",
        "            source_key_df['LAG{}_{}'.format(l, f)] = source_key_df[f].shift(l)\n",
        "        \n",
        "    train2.append(source_key_df)\n",
        "train2 = pd.concat(train2, ignore_index=True)\n",
        "\n",
        "winsor_lower = np.percentile(train2['Target'], 1) # 0.1, 1, 5, 10?\n",
        "winsor_upper = np.percentile(train2['Target'], 99)\n",
        "train2['TargetWIN'] = train2['Target'].clip(lower=winsor_lower, upper=winsor_upper)\n",
        "\n",
        "val2 = list()\n",
        "for source_key, source_key_df in val.groupby(\"Produto\"):\n",
        "    source_key_df = source_key_df.copy()\n",
        "    for f in features:\n",
        "        for l in lags:\n",
        "            source_key_df['LAG{}_{}'.format(l, f)] = source_key_df[f].shift(l)\n",
        "        \n",
        "    val2.append(source_key_df)\n",
        "val2 = pd.concat(val2, ignore_index=True)\n",
        "\n",
        "\n",
        "train2['meses'] = train2['data'].apply(lambda x: x.strftime('%m')).astype(float)\n",
        "train2['semana'] = train2['data'].apply(lambda x: x.strftime('%W')).astype(float)\n",
        "train2['dias'] = train2['data'].apply(lambda x: x.strftime('%d')).astype(float)\n",
        "\n",
        "val2['meses'] = val2['data'].apply(lambda x: x.strftime('%m')).astype(float)\n",
        "val2['semana'] = val2['data'].apply(lambda x: x.strftime('%W')).astype(float)\n",
        "val2['dias'] = val2['data'].apply(lambda x: x.strftime('%d')).astype(float)"
      ],
      "execution_count": null,
      "outputs": []
    },
    {
      "cell_type": "code",
      "metadata": {
        "colab": {
          "base_uri": "https://localhost:8080/"
        },
        "id": "GoCS4xoHcozW",
        "outputId": "0b088f8e-5d55-41ee-fd89-1574249e05d4"
      },
      "source": [
        "features = ['tMin', 'tMed', 'tMax', 'Produto', 'Vendas', 'semana'] + list(new_features)\n",
        "\n",
        "regr = LGBMRegressor(n_estimators = 100)\n",
        "regr.fit(train2[features].fillna(-1), train2['Target'])\n",
        "median_absolute_error(val2['Target'], regr.predict(val2[features].fillna(-1)))"
      ],
      "execution_count": null,
      "outputs": [
        {
          "output_type": "execute_result",
          "data": {
            "text/plain": [
              "8.431119707861399"
            ]
          },
          "metadata": {
            "tags": []
          },
          "execution_count": 30
        }
      ]
    },
    {
      "cell_type": "code",
      "metadata": {
        "colab": {
          "base_uri": "https://localhost:8080/"
        },
        "id": "qFf8NfEXdXKX",
        "outputId": "479e2d96-f6ac-430e-c25b-5138c572731d"
      },
      "source": [
        "regr.predict(val2[features].fillna(-1))"
      ],
      "execution_count": null,
      "outputs": [
        {
          "output_type": "execute_result",
          "data": {
            "text/plain": [
              "array([115.94071703, 106.02313444, 112.2532773 , 133.42512259,\n",
              "       141.04857267,  84.24728024, 168.5146798 ,  99.32700871,\n",
              "       121.20937859, 117.67176509,  98.61944855, 126.91371891,\n",
              "        93.12438143, 148.09185856,  89.05480912, 106.26595197,\n",
              "       118.96074987, 105.99167734, 105.40372461, 113.06924762,\n",
              "       117.45622067, 139.77488719,  90.90774444, 141.68909966,\n",
              "       122.42472694, 138.71668542,  52.0798921 ,  48.08023115,\n",
              "        44.79261283,  62.42359226,  44.73576852,  29.85340013,\n",
              "        36.20239596,  51.11695062,  42.05652498,  35.50663066,\n",
              "        42.30357772,  30.8353358 ,  39.19961362,  45.46146347,\n",
              "        30.95216272,  47.91852883,  34.96090075,  31.94910568,\n",
              "        30.9692529 ,  32.54132477,  31.97945379,  33.40356419,\n",
              "        35.09039932,  43.53958152,  30.78381185,  51.00688231,\n",
              "         4.38312296,   9.95293172,  10.72434228,  21.62458042,\n",
              "         6.12688907,   2.62928702,   9.45837635,   2.80194789,\n",
              "         6.11302049,   5.14182119,   2.24088149,   3.10923662,\n",
              "         6.17583629,   8.91326999,   4.58572347,   3.97951773,\n",
              "         7.72493695,   3.87916274,   6.52266211,   5.42756173,\n",
              "         8.4208399 ,   1.10610522,   1.52781259,  11.18648774,\n",
              "         2.53180098,   5.51518079,   7.74166547,  14.02992644,\n",
              "         6.18857155,  11.97287827,   4.77755384,   4.42006464,\n",
              "         6.26263452,   4.70060735,   5.84413178,   4.58818703,\n",
              "         2.44236792,   2.73963452,   4.92453987,   6.09879215,\n",
              "         6.27463701,   4.0816696 ,   6.03642222,   2.56285833,\n",
              "         4.85764934,   4.41102457,   5.64589986,  -0.74821143,\n",
              "         5.39355845,   3.42561296,   1.62078155,   5.33159148,\n",
              "         1.41725335,   7.00622059,   3.78816162,  16.49548194,\n",
              "        13.15853344,  11.23997868,  22.13570342,   2.01915518,\n",
              "         5.58739122,   2.71839785,  -1.1513866 ,  10.8127879 ,\n",
              "        10.41570629,   5.42602721,   5.15391621,  21.46308606,\n",
              "        27.63865641,   1.50073394,   2.57156825,   6.34250697,\n",
              "        21.10122547,   2.25758512,  -1.54795014,  26.87645892,\n",
              "        23.77449326,  15.68954185])"
            ]
          },
          "metadata": {
            "tags": []
          },
          "execution_count": 31
        }
      ]
    },
    {
      "cell_type": "markdown",
      "metadata": {
        "id": "GE22jCdoyeJ6"
      },
      "source": [
        "2. Diff"
      ]
    },
    {
      "cell_type": "code",
      "metadata": {
        "id": "M7sBN_BhwuYk"
      },
      "source": [
        "lags = [1,2,3,4]\n",
        "\n",
        "train2 = list()\n",
        "new_features = set()\n",
        "\n",
        "features = ['Vendas', 'tMin', 'tMed', 'tMax']\n",
        "\n",
        "for source_key, source_key_df in train.groupby(\"Produto\"):\n",
        "    source_key_df = source_key_df.copy()\n",
        "    for f in features:\n",
        "        for l in lags:\n",
        "            new_features.add('DIFF{}_{}'.format(l, f))\n",
        "            source_key_df['DIFF{}_{}'.format(l, f)] = source_key_df[f].diff(l)\n",
        "        \n",
        "    train2.append(source_key_df)\n",
        "train2 = pd.concat(train2, ignore_index=True)\n",
        "\n",
        "val2 = list()\n",
        "for source_key, source_key_df in val.groupby(\"Produto\"):\n",
        "    source_key_df = source_key_df.copy()\n",
        "    for f in features:\n",
        "        for l in lags:\n",
        "            source_key_df['DIFF{}_{}'.format(l, f)] = source_key_df[f].diff(l)\n",
        "        \n",
        "    val2.append(source_key_df)\n",
        "val2 = pd.concat(val2, ignore_index=True)\n",
        "\n",
        "train2['meses'] = train2['data'].apply(lambda x: x.strftime('%m')).astype(float)\n",
        "train2['semana'] = train2['data'].apply(lambda x: x.strftime('%W')).astype(float)\n",
        "train2['dias'] = train2['data'].apply(lambda x: x.strftime('%d')).astype(float)\n",
        "\n",
        "val2['meses'] = val2['data'].apply(lambda x: x.strftime('%m')).astype(float)\n",
        "val2['semana'] = val2['data'].apply(lambda x: x.strftime('%W')).astype(float)\n",
        "val2['dias'] = val2['data'].apply(lambda x: x.strftime('%d')).astype(float)"
      ],
      "execution_count": null,
      "outputs": []
    },
    {
      "cell_type": "code",
      "metadata": {
        "colab": {
          "base_uri": "https://localhost:8080/"
        },
        "id": "rMBwF33wwudk",
        "outputId": "ca6ffea0-8020-4f81-bcad-8003129ad5f1"
      },
      "source": [
        "features = ['tMin', 'tMed', 'tMax', 'Produto', 'Vendas', 'semana'] + list(new_features)\n",
        "\n",
        "regr = LGBMRegressor(n_estimators = 100)\n",
        "regr.fit(train2[features].fillna(-1), train2['Target'])\n",
        "median_absolute_error(val2['Target'], regr.predict(val2[features].fillna(-1)))"
      ],
      "execution_count": null,
      "outputs": [
        {
          "output_type": "execute_result",
          "data": {
            "text/plain": [
              "6.633921483812031"
            ]
          },
          "metadata": {
            "tags": []
          },
          "execution_count": 54
        }
      ]
    },
    {
      "cell_type": "code",
      "metadata": {
        "colab": {
          "base_uri": "https://localhost:8080/",
          "height": 444
        },
        "id": "xeXfw2zlNhae",
        "outputId": "0f1c1152-3550-42d0-fece-b3dd8889d785"
      },
      "source": [
        "train2"
      ],
      "execution_count": null,
      "outputs": [
        {
          "output_type": "execute_result",
          "data": {
            "text/html": [
              "<div>\n",
              "<style scoped>\n",
              "    .dataframe tbody tr th:only-of-type {\n",
              "        vertical-align: middle;\n",
              "    }\n",
              "\n",
              "    .dataframe tbody tr th {\n",
              "        vertical-align: top;\n",
              "    }\n",
              "\n",
              "    .dataframe thead th {\n",
              "        text-align: right;\n",
              "    }\n",
              "</style>\n",
              "<table border=\"1\" class=\"dataframe\">\n",
              "  <thead>\n",
              "    <tr style=\"text-align: right;\">\n",
              "      <th></th>\n",
              "      <th>data</th>\n",
              "      <th>tMin</th>\n",
              "      <th>tMed</th>\n",
              "      <th>tMax</th>\n",
              "      <th>precipitacao</th>\n",
              "      <th>Produto</th>\n",
              "      <th>Vendas</th>\n",
              "      <th>Target</th>\n",
              "      <th>DIFF1_Vendas</th>\n",
              "      <th>DIFF2_Vendas</th>\n",
              "      <th>DIFF3_Vendas</th>\n",
              "      <th>DIFF4_Vendas</th>\n",
              "      <th>DIFF1_tMin</th>\n",
              "      <th>DIFF2_tMin</th>\n",
              "      <th>DIFF3_tMin</th>\n",
              "      <th>DIFF4_tMin</th>\n",
              "      <th>DIFF1_tMed</th>\n",
              "      <th>DIFF2_tMed</th>\n",
              "      <th>DIFF3_tMed</th>\n",
              "      <th>DIFF4_tMed</th>\n",
              "      <th>DIFF1_tMax</th>\n",
              "      <th>DIFF2_tMax</th>\n",
              "      <th>DIFF3_tMax</th>\n",
              "      <th>DIFF4_tMax</th>\n",
              "      <th>meses</th>\n",
              "      <th>semana</th>\n",
              "      <th>dias</th>\n",
              "    </tr>\n",
              "  </thead>\n",
              "  <tbody>\n",
              "    <tr>\n",
              "      <th>0</th>\n",
              "      <td>2018-08-13</td>\n",
              "      <td>10.125</td>\n",
              "      <td>14.125</td>\n",
              "      <td>18.125</td>\n",
              "      <td>0</td>\n",
              "      <td>1</td>\n",
              "      <td>35.0</td>\n",
              "      <td>101</td>\n",
              "      <td>NaN</td>\n",
              "      <td>NaN</td>\n",
              "      <td>NaN</td>\n",
              "      <td>NaN</td>\n",
              "      <td>NaN</td>\n",
              "      <td>NaN</td>\n",
              "      <td>NaN</td>\n",
              "      <td>NaN</td>\n",
              "      <td>NaN</td>\n",
              "      <td>NaN</td>\n",
              "      <td>NaN</td>\n",
              "      <td>NaN</td>\n",
              "      <td>NaN</td>\n",
              "      <td>NaN</td>\n",
              "      <td>NaN</td>\n",
              "      <td>NaN</td>\n",
              "      <td>8.0</td>\n",
              "      <td>33.0</td>\n",
              "      <td>13.0</td>\n",
              "    </tr>\n",
              "    <tr>\n",
              "      <th>1</th>\n",
              "      <td>2018-08-20</td>\n",
              "      <td>11.375</td>\n",
              "      <td>24.625</td>\n",
              "      <td>26.500</td>\n",
              "      <td>0</td>\n",
              "      <td>1</td>\n",
              "      <td>101.0</td>\n",
              "      <td>125</td>\n",
              "      <td>66.0</td>\n",
              "      <td>NaN</td>\n",
              "      <td>NaN</td>\n",
              "      <td>NaN</td>\n",
              "      <td>1.250</td>\n",
              "      <td>NaN</td>\n",
              "      <td>NaN</td>\n",
              "      <td>NaN</td>\n",
              "      <td>10.500</td>\n",
              "      <td>NaN</td>\n",
              "      <td>NaN</td>\n",
              "      <td>NaN</td>\n",
              "      <td>8.375</td>\n",
              "      <td>NaN</td>\n",
              "      <td>NaN</td>\n",
              "      <td>NaN</td>\n",
              "      <td>8.0</td>\n",
              "      <td>34.0</td>\n",
              "      <td>20.0</td>\n",
              "    </tr>\n",
              "    <tr>\n",
              "      <th>2</th>\n",
              "      <td>2018-08-27</td>\n",
              "      <td>13.000</td>\n",
              "      <td>17.250</td>\n",
              "      <td>21.250</td>\n",
              "      <td>0</td>\n",
              "      <td>1</td>\n",
              "      <td>125.0</td>\n",
              "      <td>82</td>\n",
              "      <td>24.0</td>\n",
              "      <td>90.0</td>\n",
              "      <td>NaN</td>\n",
              "      <td>NaN</td>\n",
              "      <td>1.625</td>\n",
              "      <td>2.875</td>\n",
              "      <td>NaN</td>\n",
              "      <td>NaN</td>\n",
              "      <td>-7.375</td>\n",
              "      <td>3.125</td>\n",
              "      <td>NaN</td>\n",
              "      <td>NaN</td>\n",
              "      <td>-5.250</td>\n",
              "      <td>3.125</td>\n",
              "      <td>NaN</td>\n",
              "      <td>NaN</td>\n",
              "      <td>8.0</td>\n",
              "      <td>35.0</td>\n",
              "      <td>27.0</td>\n",
              "    </tr>\n",
              "    <tr>\n",
              "      <th>3</th>\n",
              "      <td>2018-09-03</td>\n",
              "      <td>13.000</td>\n",
              "      <td>18.500</td>\n",
              "      <td>24.000</td>\n",
              "      <td>0</td>\n",
              "      <td>1</td>\n",
              "      <td>82.0</td>\n",
              "      <td>197</td>\n",
              "      <td>-43.0</td>\n",
              "      <td>-19.0</td>\n",
              "      <td>47.0</td>\n",
              "      <td>NaN</td>\n",
              "      <td>0.000</td>\n",
              "      <td>1.625</td>\n",
              "      <td>2.875</td>\n",
              "      <td>NaN</td>\n",
              "      <td>1.250</td>\n",
              "      <td>-6.125</td>\n",
              "      <td>4.375</td>\n",
              "      <td>NaN</td>\n",
              "      <td>2.750</td>\n",
              "      <td>-2.500</td>\n",
              "      <td>5.875</td>\n",
              "      <td>NaN</td>\n",
              "      <td>9.0</td>\n",
              "      <td>36.0</td>\n",
              "      <td>3.0</td>\n",
              "    </tr>\n",
              "    <tr>\n",
              "      <th>4</th>\n",
              "      <td>2018-09-10</td>\n",
              "      <td>10.750</td>\n",
              "      <td>15.375</td>\n",
              "      <td>20.125</td>\n",
              "      <td>0</td>\n",
              "      <td>1</td>\n",
              "      <td>197.0</td>\n",
              "      <td>113</td>\n",
              "      <td>115.0</td>\n",
              "      <td>72.0</td>\n",
              "      <td>96.0</td>\n",
              "      <td>162.0</td>\n",
              "      <td>-2.250</td>\n",
              "      <td>-2.250</td>\n",
              "      <td>-0.625</td>\n",
              "      <td>0.625</td>\n",
              "      <td>-3.125</td>\n",
              "      <td>-1.875</td>\n",
              "      <td>-9.250</td>\n",
              "      <td>1.250</td>\n",
              "      <td>-3.875</td>\n",
              "      <td>-1.125</td>\n",
              "      <td>-6.375</td>\n",
              "      <td>2.000</td>\n",
              "      <td>9.0</td>\n",
              "      <td>37.0</td>\n",
              "      <td>10.0</td>\n",
              "    </tr>\n",
              "    <tr>\n",
              "      <th>...</th>\n",
              "      <td>...</td>\n",
              "      <td>...</td>\n",
              "      <td>...</td>\n",
              "      <td>...</td>\n",
              "      <td>...</td>\n",
              "      <td>...</td>\n",
              "      <td>...</td>\n",
              "      <td>...</td>\n",
              "      <td>...</td>\n",
              "      <td>...</td>\n",
              "      <td>...</td>\n",
              "      <td>...</td>\n",
              "      <td>...</td>\n",
              "      <td>...</td>\n",
              "      <td>...</td>\n",
              "      <td>...</td>\n",
              "      <td>...</td>\n",
              "      <td>...</td>\n",
              "      <td>...</td>\n",
              "      <td>...</td>\n",
              "      <td>...</td>\n",
              "      <td>...</td>\n",
              "      <td>...</td>\n",
              "      <td>...</td>\n",
              "      <td>...</td>\n",
              "      <td>...</td>\n",
              "      <td>...</td>\n",
              "    </tr>\n",
              "    <tr>\n",
              "      <th>275</th>\n",
              "      <td>2019-08-05</td>\n",
              "      <td>10.875</td>\n",
              "      <td>15.000</td>\n",
              "      <td>19.125</td>\n",
              "      <td>0</td>\n",
              "      <td>6</td>\n",
              "      <td>27.0</td>\n",
              "      <td>12</td>\n",
              "      <td>2.0</td>\n",
              "      <td>3.0</td>\n",
              "      <td>6.0</td>\n",
              "      <td>11.0</td>\n",
              "      <td>-2.875</td>\n",
              "      <td>0.000</td>\n",
              "      <td>1.250</td>\n",
              "      <td>0.125</td>\n",
              "      <td>-3.375</td>\n",
              "      <td>0.125</td>\n",
              "      <td>-0.125</td>\n",
              "      <td>0.875</td>\n",
              "      <td>-3.750</td>\n",
              "      <td>0.125</td>\n",
              "      <td>-1.375</td>\n",
              "      <td>1.750</td>\n",
              "      <td>8.0</td>\n",
              "      <td>31.0</td>\n",
              "      <td>5.0</td>\n",
              "    </tr>\n",
              "    <tr>\n",
              "      <th>276</th>\n",
              "      <td>2019-08-12</td>\n",
              "      <td>13.250</td>\n",
              "      <td>26.750</td>\n",
              "      <td>30.875</td>\n",
              "      <td>0</td>\n",
              "      <td>6</td>\n",
              "      <td>12.0</td>\n",
              "      <td>17</td>\n",
              "      <td>-15.0</td>\n",
              "      <td>-13.0</td>\n",
              "      <td>-12.0</td>\n",
              "      <td>-9.0</td>\n",
              "      <td>2.375</td>\n",
              "      <td>-0.500</td>\n",
              "      <td>2.375</td>\n",
              "      <td>3.625</td>\n",
              "      <td>11.750</td>\n",
              "      <td>8.375</td>\n",
              "      <td>11.875</td>\n",
              "      <td>11.625</td>\n",
              "      <td>11.750</td>\n",
              "      <td>8.000</td>\n",
              "      <td>11.875</td>\n",
              "      <td>10.375</td>\n",
              "      <td>8.0</td>\n",
              "      <td>32.0</td>\n",
              "      <td>12.0</td>\n",
              "    </tr>\n",
              "    <tr>\n",
              "      <th>277</th>\n",
              "      <td>2019-08-19</td>\n",
              "      <td>12.375</td>\n",
              "      <td>16.250</td>\n",
              "      <td>19.875</td>\n",
              "      <td>0</td>\n",
              "      <td>6</td>\n",
              "      <td>17.0</td>\n",
              "      <td>14</td>\n",
              "      <td>5.0</td>\n",
              "      <td>-10.0</td>\n",
              "      <td>-8.0</td>\n",
              "      <td>-7.0</td>\n",
              "      <td>-0.875</td>\n",
              "      <td>1.500</td>\n",
              "      <td>-1.375</td>\n",
              "      <td>1.500</td>\n",
              "      <td>-10.500</td>\n",
              "      <td>1.250</td>\n",
              "      <td>-2.125</td>\n",
              "      <td>1.375</td>\n",
              "      <td>-11.000</td>\n",
              "      <td>0.750</td>\n",
              "      <td>-3.000</td>\n",
              "      <td>0.875</td>\n",
              "      <td>8.0</td>\n",
              "      <td>33.0</td>\n",
              "      <td>19.0</td>\n",
              "    </tr>\n",
              "    <tr>\n",
              "      <th>278</th>\n",
              "      <td>2019-08-26</td>\n",
              "      <td>10.750</td>\n",
              "      <td>13.750</td>\n",
              "      <td>16.375</td>\n",
              "      <td>0</td>\n",
              "      <td>6</td>\n",
              "      <td>14.0</td>\n",
              "      <td>42</td>\n",
              "      <td>-3.0</td>\n",
              "      <td>2.0</td>\n",
              "      <td>-13.0</td>\n",
              "      <td>-11.0</td>\n",
              "      <td>-1.625</td>\n",
              "      <td>-2.500</td>\n",
              "      <td>-0.125</td>\n",
              "      <td>-3.000</td>\n",
              "      <td>-2.500</td>\n",
              "      <td>-13.000</td>\n",
              "      <td>-1.250</td>\n",
              "      <td>-4.625</td>\n",
              "      <td>-3.500</td>\n",
              "      <td>-14.500</td>\n",
              "      <td>-2.750</td>\n",
              "      <td>-6.500</td>\n",
              "      <td>8.0</td>\n",
              "      <td>34.0</td>\n",
              "      <td>26.0</td>\n",
              "    </tr>\n",
              "    <tr>\n",
              "      <th>279</th>\n",
              "      <td>2019-09-02</td>\n",
              "      <td>13.000</td>\n",
              "      <td>17.500</td>\n",
              "      <td>22.000</td>\n",
              "      <td>81</td>\n",
              "      <td>6</td>\n",
              "      <td>42.0</td>\n",
              "      <td>0</td>\n",
              "      <td>28.0</td>\n",
              "      <td>25.0</td>\n",
              "      <td>30.0</td>\n",
              "      <td>15.0</td>\n",
              "      <td>2.250</td>\n",
              "      <td>0.625</td>\n",
              "      <td>-0.250</td>\n",
              "      <td>2.125</td>\n",
              "      <td>3.750</td>\n",
              "      <td>1.250</td>\n",
              "      <td>-9.250</td>\n",
              "      <td>2.500</td>\n",
              "      <td>5.625</td>\n",
              "      <td>2.125</td>\n",
              "      <td>-8.875</td>\n",
              "      <td>2.875</td>\n",
              "      <td>9.0</td>\n",
              "      <td>35.0</td>\n",
              "      <td>2.0</td>\n",
              "    </tr>\n",
              "  </tbody>\n",
              "</table>\n",
              "<p>280 rows × 27 columns</p>\n",
              "</div>"
            ],
            "text/plain": [
              "          data    tMin    tMed    tMax  ... DIFF4_tMax  meses  semana  dias\n",
              "0   2018-08-13  10.125  14.125  18.125  ...        NaN    8.0    33.0  13.0\n",
              "1   2018-08-20  11.375  24.625  26.500  ...        NaN    8.0    34.0  20.0\n",
              "2   2018-08-27  13.000  17.250  21.250  ...        NaN    8.0    35.0  27.0\n",
              "3   2018-09-03  13.000  18.500  24.000  ...        NaN    9.0    36.0   3.0\n",
              "4   2018-09-10  10.750  15.375  20.125  ...      2.000    9.0    37.0  10.0\n",
              "..         ...     ...     ...     ...  ...        ...    ...     ...   ...\n",
              "275 2019-08-05  10.875  15.000  19.125  ...      1.750    8.0    31.0   5.0\n",
              "276 2019-08-12  13.250  26.750  30.875  ...     10.375    8.0    32.0  12.0\n",
              "277 2019-08-19  12.375  16.250  19.875  ...      0.875    8.0    33.0  19.0\n",
              "278 2019-08-26  10.750  13.750  16.375  ...     -6.500    8.0    34.0  26.0\n",
              "279 2019-09-02  13.000  17.500  22.000  ...      2.875    9.0    35.0   2.0\n",
              "\n",
              "[280 rows x 27 columns]"
            ]
          },
          "metadata": {
            "tags": []
          },
          "execution_count": 55
        }
      ]
    },
    {
      "cell_type": "code",
      "metadata": {
        "colab": {
          "base_uri": "https://localhost:8080/",
          "height": 444
        },
        "id": "xhwyAF9POH23",
        "outputId": "7d976d1f-3e73-4fed-d136-e15d8619cba3"
      },
      "source": [
        "val2"
      ],
      "execution_count": null,
      "outputs": [
        {
          "output_type": "execute_result",
          "data": {
            "text/html": [
              "<div>\n",
              "<style scoped>\n",
              "    .dataframe tbody tr th:only-of-type {\n",
              "        vertical-align: middle;\n",
              "    }\n",
              "\n",
              "    .dataframe tbody tr th {\n",
              "        vertical-align: top;\n",
              "    }\n",
              "\n",
              "    .dataframe thead th {\n",
              "        text-align: right;\n",
              "    }\n",
              "</style>\n",
              "<table border=\"1\" class=\"dataframe\">\n",
              "  <thead>\n",
              "    <tr style=\"text-align: right;\">\n",
              "      <th></th>\n",
              "      <th>data</th>\n",
              "      <th>tMin</th>\n",
              "      <th>tMed</th>\n",
              "      <th>tMax</th>\n",
              "      <th>precipitacao</th>\n",
              "      <th>Produto</th>\n",
              "      <th>Vendas</th>\n",
              "      <th>Target</th>\n",
              "      <th>DIFF1_Vendas</th>\n",
              "      <th>DIFF2_Vendas</th>\n",
              "      <th>DIFF3_Vendas</th>\n",
              "      <th>DIFF4_Vendas</th>\n",
              "      <th>DIFF1_tMin</th>\n",
              "      <th>DIFF2_tMin</th>\n",
              "      <th>DIFF3_tMin</th>\n",
              "      <th>DIFF4_tMin</th>\n",
              "      <th>DIFF1_tMed</th>\n",
              "      <th>DIFF2_tMed</th>\n",
              "      <th>DIFF3_tMed</th>\n",
              "      <th>DIFF4_tMed</th>\n",
              "      <th>DIFF1_tMax</th>\n",
              "      <th>DIFF2_tMax</th>\n",
              "      <th>DIFF3_tMax</th>\n",
              "      <th>DIFF4_tMax</th>\n",
              "      <th>meses</th>\n",
              "      <th>semana</th>\n",
              "      <th>dias</th>\n",
              "    </tr>\n",
              "  </thead>\n",
              "  <tbody>\n",
              "    <tr>\n",
              "      <th>0</th>\n",
              "      <td>2019-09-09</td>\n",
              "      <td>13.375</td>\n",
              "      <td>17.250</td>\n",
              "      <td>20.625</td>\n",
              "      <td>0</td>\n",
              "      <td>1</td>\n",
              "      <td>90.0</td>\n",
              "      <td>137</td>\n",
              "      <td>NaN</td>\n",
              "      <td>NaN</td>\n",
              "      <td>NaN</td>\n",
              "      <td>NaN</td>\n",
              "      <td>NaN</td>\n",
              "      <td>NaN</td>\n",
              "      <td>NaN</td>\n",
              "      <td>NaN</td>\n",
              "      <td>NaN</td>\n",
              "      <td>NaN</td>\n",
              "      <td>NaN</td>\n",
              "      <td>NaN</td>\n",
              "      <td>NaN</td>\n",
              "      <td>NaN</td>\n",
              "      <td>NaN</td>\n",
              "      <td>NaN</td>\n",
              "      <td>9.0</td>\n",
              "      <td>36.0</td>\n",
              "      <td>9.0</td>\n",
              "    </tr>\n",
              "    <tr>\n",
              "      <th>1</th>\n",
              "      <td>2019-09-16</td>\n",
              "      <td>16.875</td>\n",
              "      <td>22.500</td>\n",
              "      <td>28.000</td>\n",
              "      <td>0</td>\n",
              "      <td>1</td>\n",
              "      <td>137.0</td>\n",
              "      <td>82</td>\n",
              "      <td>47.0</td>\n",
              "      <td>NaN</td>\n",
              "      <td>NaN</td>\n",
              "      <td>NaN</td>\n",
              "      <td>3.500</td>\n",
              "      <td>NaN</td>\n",
              "      <td>NaN</td>\n",
              "      <td>NaN</td>\n",
              "      <td>5.250</td>\n",
              "      <td>NaN</td>\n",
              "      <td>NaN</td>\n",
              "      <td>NaN</td>\n",
              "      <td>7.375</td>\n",
              "      <td>NaN</td>\n",
              "      <td>NaN</td>\n",
              "      <td>NaN</td>\n",
              "      <td>9.0</td>\n",
              "      <td>37.0</td>\n",
              "      <td>16.0</td>\n",
              "    </tr>\n",
              "    <tr>\n",
              "      <th>2</th>\n",
              "      <td>2019-09-23</td>\n",
              "      <td>15.875</td>\n",
              "      <td>20.125</td>\n",
              "      <td>24.250</td>\n",
              "      <td>0</td>\n",
              "      <td>1</td>\n",
              "      <td>82.0</td>\n",
              "      <td>179</td>\n",
              "      <td>-55.0</td>\n",
              "      <td>-8.0</td>\n",
              "      <td>NaN</td>\n",
              "      <td>NaN</td>\n",
              "      <td>-1.000</td>\n",
              "      <td>2.500</td>\n",
              "      <td>NaN</td>\n",
              "      <td>NaN</td>\n",
              "      <td>-2.375</td>\n",
              "      <td>2.875</td>\n",
              "      <td>NaN</td>\n",
              "      <td>NaN</td>\n",
              "      <td>-3.750</td>\n",
              "      <td>3.625</td>\n",
              "      <td>NaN</td>\n",
              "      <td>NaN</td>\n",
              "      <td>9.0</td>\n",
              "      <td>38.0</td>\n",
              "      <td>23.0</td>\n",
              "    </tr>\n",
              "    <tr>\n",
              "      <th>3</th>\n",
              "      <td>2019-09-30</td>\n",
              "      <td>12.000</td>\n",
              "      <td>15.375</td>\n",
              "      <td>18.875</td>\n",
              "      <td>0</td>\n",
              "      <td>1</td>\n",
              "      <td>179.0</td>\n",
              "      <td>90</td>\n",
              "      <td>97.0</td>\n",
              "      <td>42.0</td>\n",
              "      <td>89.0</td>\n",
              "      <td>NaN</td>\n",
              "      <td>-3.875</td>\n",
              "      <td>-4.875</td>\n",
              "      <td>-1.375</td>\n",
              "      <td>NaN</td>\n",
              "      <td>-4.750</td>\n",
              "      <td>-7.125</td>\n",
              "      <td>-1.875</td>\n",
              "      <td>NaN</td>\n",
              "      <td>-5.375</td>\n",
              "      <td>-9.125</td>\n",
              "      <td>-1.750</td>\n",
              "      <td>NaN</td>\n",
              "      <td>9.0</td>\n",
              "      <td>39.0</td>\n",
              "      <td>30.0</td>\n",
              "    </tr>\n",
              "    <tr>\n",
              "      <th>4</th>\n",
              "      <td>2019-10-07</td>\n",
              "      <td>14.625</td>\n",
              "      <td>20.000</td>\n",
              "      <td>25.375</td>\n",
              "      <td>2</td>\n",
              "      <td>1</td>\n",
              "      <td>90.0</td>\n",
              "      <td>144</td>\n",
              "      <td>-89.0</td>\n",
              "      <td>8.0</td>\n",
              "      <td>-47.0</td>\n",
              "      <td>0.0</td>\n",
              "      <td>2.625</td>\n",
              "      <td>-1.250</td>\n",
              "      <td>-2.250</td>\n",
              "      <td>1.250</td>\n",
              "      <td>4.625</td>\n",
              "      <td>-0.125</td>\n",
              "      <td>-2.500</td>\n",
              "      <td>2.750</td>\n",
              "      <td>6.500</td>\n",
              "      <td>1.125</td>\n",
              "      <td>-2.625</td>\n",
              "      <td>4.750</td>\n",
              "      <td>10.0</td>\n",
              "      <td>40.0</td>\n",
              "      <td>7.0</td>\n",
              "    </tr>\n",
              "    <tr>\n",
              "      <th>...</th>\n",
              "      <td>...</td>\n",
              "      <td>...</td>\n",
              "      <td>...</td>\n",
              "      <td>...</td>\n",
              "      <td>...</td>\n",
              "      <td>...</td>\n",
              "      <td>...</td>\n",
              "      <td>...</td>\n",
              "      <td>...</td>\n",
              "      <td>...</td>\n",
              "      <td>...</td>\n",
              "      <td>...</td>\n",
              "      <td>...</td>\n",
              "      <td>...</td>\n",
              "      <td>...</td>\n",
              "      <td>...</td>\n",
              "      <td>...</td>\n",
              "      <td>...</td>\n",
              "      <td>...</td>\n",
              "      <td>...</td>\n",
              "      <td>...</td>\n",
              "      <td>...</td>\n",
              "      <td>...</td>\n",
              "      <td>...</td>\n",
              "      <td>...</td>\n",
              "      <td>...</td>\n",
              "      <td>...</td>\n",
              "    </tr>\n",
              "    <tr>\n",
              "      <th>125</th>\n",
              "      <td>2020-02-03</td>\n",
              "      <td>18.375</td>\n",
              "      <td>23.250</td>\n",
              "      <td>28.000</td>\n",
              "      <td>53</td>\n",
              "      <td>6</td>\n",
              "      <td>42.0</td>\n",
              "      <td>29</td>\n",
              "      <td>27.0</td>\n",
              "      <td>15.0</td>\n",
              "      <td>23.0</td>\n",
              "      <td>37.0</td>\n",
              "      <td>2.750</td>\n",
              "      <td>0.125</td>\n",
              "      <td>-1.125</td>\n",
              "      <td>0.375</td>\n",
              "      <td>2.875</td>\n",
              "      <td>1.750</td>\n",
              "      <td>-0.500</td>\n",
              "      <td>0.750</td>\n",
              "      <td>2.875</td>\n",
              "      <td>3.000</td>\n",
              "      <td>0.250</td>\n",
              "      <td>0.875</td>\n",
              "      <td>2.0</td>\n",
              "      <td>5.0</td>\n",
              "      <td>3.0</td>\n",
              "    </tr>\n",
              "    <tr>\n",
              "      <th>126</th>\n",
              "      <td>2020-02-10</td>\n",
              "      <td>18.625</td>\n",
              "      <td>21.875</td>\n",
              "      <td>25.125</td>\n",
              "      <td>22</td>\n",
              "      <td>6</td>\n",
              "      <td>29.0</td>\n",
              "      <td>36</td>\n",
              "      <td>-13.0</td>\n",
              "      <td>14.0</td>\n",
              "      <td>2.0</td>\n",
              "      <td>10.0</td>\n",
              "      <td>0.250</td>\n",
              "      <td>3.000</td>\n",
              "      <td>0.375</td>\n",
              "      <td>-0.875</td>\n",
              "      <td>-1.375</td>\n",
              "      <td>1.500</td>\n",
              "      <td>0.375</td>\n",
              "      <td>-1.875</td>\n",
              "      <td>-2.875</td>\n",
              "      <td>0.000</td>\n",
              "      <td>0.125</td>\n",
              "      <td>-2.625</td>\n",
              "      <td>2.0</td>\n",
              "      <td>6.0</td>\n",
              "      <td>10.0</td>\n",
              "    </tr>\n",
              "    <tr>\n",
              "      <th>127</th>\n",
              "      <td>2020-02-17</td>\n",
              "      <td>16.875</td>\n",
              "      <td>20.875</td>\n",
              "      <td>24.875</td>\n",
              "      <td>0</td>\n",
              "      <td>6</td>\n",
              "      <td>36.0</td>\n",
              "      <td>12</td>\n",
              "      <td>7.0</td>\n",
              "      <td>-6.0</td>\n",
              "      <td>21.0</td>\n",
              "      <td>9.0</td>\n",
              "      <td>-1.750</td>\n",
              "      <td>-1.500</td>\n",
              "      <td>1.250</td>\n",
              "      <td>-1.375</td>\n",
              "      <td>-1.000</td>\n",
              "      <td>-2.375</td>\n",
              "      <td>0.500</td>\n",
              "      <td>-0.625</td>\n",
              "      <td>-0.250</td>\n",
              "      <td>-3.125</td>\n",
              "      <td>-0.250</td>\n",
              "      <td>-0.125</td>\n",
              "      <td>2.0</td>\n",
              "      <td>7.0</td>\n",
              "      <td>17.0</td>\n",
              "    </tr>\n",
              "    <tr>\n",
              "      <th>128</th>\n",
              "      <td>2020-02-24</td>\n",
              "      <td>18.500</td>\n",
              "      <td>21.875</td>\n",
              "      <td>25.500</td>\n",
              "      <td>0</td>\n",
              "      <td>6</td>\n",
              "      <td>12.0</td>\n",
              "      <td>40</td>\n",
              "      <td>-24.0</td>\n",
              "      <td>-17.0</td>\n",
              "      <td>-30.0</td>\n",
              "      <td>-3.0</td>\n",
              "      <td>1.625</td>\n",
              "      <td>-0.125</td>\n",
              "      <td>0.125</td>\n",
              "      <td>2.875</td>\n",
              "      <td>1.000</td>\n",
              "      <td>0.000</td>\n",
              "      <td>-1.375</td>\n",
              "      <td>1.500</td>\n",
              "      <td>0.625</td>\n",
              "      <td>0.375</td>\n",
              "      <td>-2.500</td>\n",
              "      <td>0.375</td>\n",
              "      <td>2.0</td>\n",
              "      <td>8.0</td>\n",
              "      <td>24.0</td>\n",
              "    </tr>\n",
              "    <tr>\n",
              "      <th>129</th>\n",
              "      <td>2020-03-02</td>\n",
              "      <td>16.500</td>\n",
              "      <td>19.500</td>\n",
              "      <td>22.375</td>\n",
              "      <td>0</td>\n",
              "      <td>6</td>\n",
              "      <td>40.0</td>\n",
              "      <td>9</td>\n",
              "      <td>28.0</td>\n",
              "      <td>4.0</td>\n",
              "      <td>11.0</td>\n",
              "      <td>-2.0</td>\n",
              "      <td>-2.000</td>\n",
              "      <td>-0.375</td>\n",
              "      <td>-2.125</td>\n",
              "      <td>-1.875</td>\n",
              "      <td>-2.375</td>\n",
              "      <td>-1.375</td>\n",
              "      <td>-2.375</td>\n",
              "      <td>-3.750</td>\n",
              "      <td>-3.125</td>\n",
              "      <td>-2.500</td>\n",
              "      <td>-2.750</td>\n",
              "      <td>-5.625</td>\n",
              "      <td>3.0</td>\n",
              "      <td>9.0</td>\n",
              "      <td>2.0</td>\n",
              "    </tr>\n",
              "  </tbody>\n",
              "</table>\n",
              "<p>130 rows × 27 columns</p>\n",
              "</div>"
            ],
            "text/plain": [
              "          data    tMin    tMed    tMax  ... DIFF4_tMax  meses  semana  dias\n",
              "0   2019-09-09  13.375  17.250  20.625  ...        NaN    9.0    36.0   9.0\n",
              "1   2019-09-16  16.875  22.500  28.000  ...        NaN    9.0    37.0  16.0\n",
              "2   2019-09-23  15.875  20.125  24.250  ...        NaN    9.0    38.0  23.0\n",
              "3   2019-09-30  12.000  15.375  18.875  ...        NaN    9.0    39.0  30.0\n",
              "4   2019-10-07  14.625  20.000  25.375  ...      4.750   10.0    40.0   7.0\n",
              "..         ...     ...     ...     ...  ...        ...    ...     ...   ...\n",
              "125 2020-02-03  18.375  23.250  28.000  ...      0.875    2.0     5.0   3.0\n",
              "126 2020-02-10  18.625  21.875  25.125  ...     -2.625    2.0     6.0  10.0\n",
              "127 2020-02-17  16.875  20.875  24.875  ...     -0.125    2.0     7.0  17.0\n",
              "128 2020-02-24  18.500  21.875  25.500  ...      0.375    2.0     8.0  24.0\n",
              "129 2020-03-02  16.500  19.500  22.375  ...     -5.625    3.0     9.0   2.0\n",
              "\n",
              "[130 rows x 27 columns]"
            ]
          },
          "metadata": {
            "tags": []
          },
          "execution_count": 56
        }
      ]
    },
    {
      "cell_type": "code",
      "metadata": {
        "id": "GUK16kSWOgEy"
      },
      "source": [
        "import pickle\n",
        " \n",
        "with open('train.pkl', 'wb') as file:\n",
        "    pickle.dump(train2, file)\n",
        "\n",
        "with open('val.pkl', 'wb') as file:\n",
        "    pickle.dump(val2, file)    "
      ],
      "execution_count": null,
      "outputs": []
    },
    {
      "cell_type": "code",
      "metadata": {
        "colab": {
          "base_uri": "https://localhost:8080/"
        },
        "id": "iTOmRk9xsbq-",
        "outputId": "ee7dc047-f665-4f29-f049-d0d38c1ef0e0"
      },
      "source": [
        "np.set_printoptions(precision=0)\n",
        "regr.predict(val2[features].fillna(-1))"
      ],
      "execution_count": null,
      "outputs": [
        {
          "output_type": "execute_result",
          "data": {
            "text/plain": [
              "array([125., 104., 136., 112., 145., 118., 169., 113., 134., 114., 116.,\n",
              "       141., 121., 123., 100., 103., 153., 123., 120., 115., 100., 137.,\n",
              "       101., 120.,  88., 145.,  70.,  47.,  47.,  50.,  29.,  25.,  49.,\n",
              "        25.,  35.,  27.,  65.,  35.,  40.,  31.,  11.,  15.,  46.,  30.,\n",
              "        27.,  54.,  54.,  25.,  37.,  56.,  17.,  68.,   1.,  11.,   8.,\n",
              "         9.,   2.,   7.,  10.,   2.,   8.,   2.,   6.,   6.,   5.,   9.,\n",
              "         5.,   4.,   3.,   8.,  11.,   5.,   7.,   4.,   7.,  12.,  12.,\n",
              "        10.,   9.,  10.,   9.,   8.,   4.,   8.,  13.,   5.,   6.,  -0.,\n",
              "         8.,   7.,   4.,   7.,   7.,   6.,   5.,   8.,   9.,   9.,   8.,\n",
              "         6.,   2.,  12.,  10.,  13.,   3.,   8.,   8.,   8.,   9.,   3.,\n",
              "        13.,   5.,   6.,   1.,   5.,   6.,   5.,   5.,  10.,  15.,  11.,\n",
              "        10.,   9.,  12.,  16.,   2.,  -1.,   5.,   7.,  15.])"
            ]
          },
          "metadata": {
            "tags": []
          },
          "execution_count": 58
        }
      ]
    },
    {
      "cell_type": "markdown",
      "metadata": {
        "id": "HUoJiJ1AsKlR"
      },
      "source": [
        "Rooling\n"
      ]
    },
    {
      "cell_type": "code",
      "metadata": {
        "id": "ThjxyyxswujE"
      },
      "source": [
        "lags = [1,4,8]\n",
        "\n",
        "train2 = list()\n",
        "new_features = set()\n",
        "\n",
        "features = ['tMin', 'tMed', 'tMax', 'Vendas']\n",
        "\n",
        "for source_key, source_key_df in train.groupby(\"Produto\"):\n",
        "    source_key_df = source_key_df.copy()\n",
        "    for f in features:\n",
        "        for l in lags:\n",
        "            new_features.add('ROLL_MEAN{}_{}'.format(l, f))\n",
        "            source_key_df['ROLL_MEAN{}_{}'.format(l, f)] = source_key_df[f].rolling(l).mean()\n",
        "        \n",
        "    train2.append(source_key_df)\n",
        "train2 = pd.concat(train2, ignore_index=True)\n",
        "\n",
        "val2 = list()\n",
        "for source_key, source_key_df in val.groupby(\"Produto\"):\n",
        "    source_key_df = source_key_df.copy()\n",
        "    for f in features:\n",
        "        for l in lags:\n",
        "            source_key_df['ROLL_MEAN{}_{}'.format(l, f)] = source_key_df[f].rolling(l).mean()\n",
        "        \n",
        "    val2.append(source_key_df)\n",
        "val2 = pd.concat(val2, ignore_index=True)"
      ],
      "execution_count": null,
      "outputs": []
    },
    {
      "cell_type": "code",
      "metadata": {
        "colab": {
          "base_uri": "https://localhost:8080/"
        },
        "id": "vZ8iDL9lwulh",
        "outputId": "7644a28b-331e-41ad-a66a-3293d97b44bd"
      },
      "source": [
        "features = ['Vendas', 'Produto', 'tMin', 'tMed', 'tMax'] + list(new_features)\n",
        "\n",
        "regr = LGBMRegressor(n_estimators = 100)\n",
        "regr.fit(train2[features].fillna(-1), train2['Target'])\n",
        "median_absolute_error(val2['Target'], regr.predict(val2[features].fillna(-1)))"
      ],
      "execution_count": null,
      "outputs": [
        {
          "output_type": "execute_result",
          "data": {
            "text/plain": [
              "8.30770682775379"
            ]
          },
          "metadata": {
            "tags": []
          },
          "execution_count": 40
        }
      ]
    },
    {
      "cell_type": "code",
      "metadata": {
        "colab": {
          "base_uri": "https://localhost:8080/"
        },
        "id": "E-4yiJaGVR_N",
        "outputId": "3e4259a0-e682-4b06-ae93-f64973cdb49e"
      },
      "source": [
        "regr.predict(val2[features].fillna(-1))"
      ],
      "execution_count": null,
      "outputs": [
        {
          "output_type": "execute_result",
          "data": {
            "text/plain": [
              "array([103.,  96., 115., 118., 142., 130., 152., 133., 150., 155., 118.,\n",
              "       155., 133., 155., 120., 119., 139., 136., 134.,  99., 123., 146.,\n",
              "       117., 133., 121., 123.,  49.,  57.,  56.,  60.,  54.,  43.,  52.,\n",
              "        29.,  42.,  41.,  36.,  44.,  58.,  55.,  23.,  34.,  39.,  32.,\n",
              "        52.,  34.,  29.,  44.,  47.,  49.,  42.,  51.,   4.,   8.,   1.,\n",
              "        10.,   6.,   5.,   6.,   7.,  10.,  12.,   8.,  11.,   6.,   7.,\n",
              "         8.,   5.,  11.,   9.,   5.,   2.,   6.,   5.,   7.,   9.,   9.,\n",
              "        14.,   5.,   5.,   5.,  10.,   5.,   3.,   5.,   5.,   5.,   9.,\n",
              "         7.,   7.,   5.,   8.,   7.,   4.,   8.,   6.,   3.,   1.,   5.,\n",
              "         6.,   6.,   4.,   2.,  10.,   0.,   4.,   1.,   7.,  11.,  11.,\n",
              "        14.,  10.,  13.,  14.,  14.,  21.,  22.,  17.,  15.,  21.,  22.,\n",
              "        22.,   9.,   2.,  19.,  18.,   9.,  11.,  18.,  17.])"
            ]
          },
          "metadata": {
            "tags": []
          },
          "execution_count": 41
        }
      ]
    },
    {
      "cell_type": "code",
      "metadata": {
        "id": "nrCOsFxTz41c"
      },
      "source": [
        "lags = [1,4,8]\n",
        "\n",
        "\n",
        "train2 = list()\n",
        "new_features = set()\n",
        "\n",
        "features = ['Vendas', 'tMin', 'tMed', 'tMax']\n",
        "\n",
        "for source_key, source_key_df in train.groupby(\"Produto\"):\n",
        "    source_key_df = source_key_df.copy()\n",
        "    for f in features:\n",
        "        for l in lags:\n",
        "            new_features.add('DELTA_ROLL_MEAN{}_{}'.format(l, f))\n",
        "            source_key_df['DELTA_ROLL_MEAN{}_{}'.format(l, f)] = source_key_df[f] - source_key_df[f].rolling(l).mean()\n",
        "        \n",
        "    train2.append(source_key_df)\n",
        "train2 = pd.concat(train2, ignore_index=True)\n",
        "\n",
        "val2 = list()\n",
        "for source_key, source_key_df in val.groupby(\"Produto\"):\n",
        "    source_key_df = source_key_df.copy()\n",
        "    for f in features:\n",
        "        for l in lags:\n",
        "            source_key_df['DELTA_ROLL_MEAN{}_{}'.format(l, f)] = source_key_df[f] - source_key_df[f].rolling(l).mean()\n",
        "        \n",
        "    val2.append(source_key_df)\n",
        "val2 = pd.concat(val2, ignore_index=True)\n",
        "\n",
        "train2['meses'] = train2['data'].apply(lambda x: x.strftime('%m')).astype(float)\n",
        "train2['semana'] = train2['data'].apply(lambda x: x.strftime('%W')).astype(float)\n",
        "train2['dias'] = train2['data'].apply(lambda x: x.strftime('%d')).astype(float)\n",
        "\n",
        "val2['meses'] = val2['data'].apply(lambda x: x.strftime('%m')).astype(float)\n",
        "val2['semana'] = val2['data'].apply(lambda x: x.strftime('%W')).astype(float)\n",
        "val2['dias'] = val2['data'].apply(lambda x: x.strftime('%d')).astype(float)"
      ],
      "execution_count": null,
      "outputs": []
    },
    {
      "cell_type": "code",
      "metadata": {
        "colab": {
          "base_uri": "https://localhost:8080/"
        },
        "id": "a6ixdZpKz44M",
        "outputId": "d0aa03fe-d400-412d-a9c2-21b235768c7a"
      },
      "source": [
        "features = ['Produto', 'Vendas', 'tMin', 'tMed', 'tMax', 'semana', 'dias'] + list(new_features)\n",
        "\n",
        "regr = LGBMRegressor(n_estimators = 1000)\n",
        "regr.fit(train2[features].fillna(-1), train2['Target'])\n",
        "median_absolute_error(val2['Target'], regr.predict(val2[features].fillna(-1)))"
      ],
      "execution_count": null,
      "outputs": [
        {
          "output_type": "execute_result",
          "data": {
            "text/plain": [
              "8.074492497757593"
            ]
          },
          "metadata": {
            "tags": []
          },
          "execution_count": 43
        }
      ]
    },
    {
      "cell_type": "code",
      "metadata": {
        "colab": {
          "base_uri": "https://localhost:8080/"
        },
        "id": "TCZtEPKUe2HO",
        "outputId": "e36054c6-7485-4fca-9c62-0cbcda981033"
      },
      "source": [
        "regr.predict(val2[features].fillna(-1))"
      ],
      "execution_count": null,
      "outputs": [
        {
          "output_type": "execute_result",
          "data": {
            "text/plain": [
              "array([ 1.e+02,  1.e+02,  1.e+02,  1.e+02,  2.e+02,  1.e+02,  2.e+02,\n",
              "        1.e+02,  1.e+02,  1.e+02,  1.e+02,  1.e+02,  1.e+02,  1.e+02,\n",
              "        8.e+01,  8.e+01,  1.e+02,  1.e+02,  1.e+02,  1.e+02,  1.e+02,\n",
              "        2.e+02,  1.e+02,  1.e+02,  1.e+02,  1.e+02,  4.e+01,  8.e+01,\n",
              "        7.e+01,  6.e+01,  6.e+01,  4.e+01,  4.e+01,  4.e+01,  5.e+01,\n",
              "        4.e+01,  3.e+01,  6.e+01,  5.e+01,  3.e+01,  1.e+01,  2.e+01,\n",
              "        5.e+01,  4.e+01,  2.e+01,  3.e+01,  4.e+01,  4.e+01,  5.e+01,\n",
              "        4.e+01,  3.e+01,  5.e+01,  3.e+00,  2.e+01,  1.e+01,  3.e+00,\n",
              "        1.e+01,  7.e+00,  1.e+01,  5.e+00,  4.e+00,  4.e+00,  4.e+00,\n",
              "        1.e+01,  7.e-01,  2.e+00,  5.e+00,  4.e-01,  2.e+00,  2.e+01,\n",
              "        5.e+00,  1.e+01,  9.e+00,  2.e+01,  5.e+00,  5.e+00,  2.e+01,\n",
              "        1.e+01,  1.e+01,  2.e+01,  2.e+01,  8.e+00,  1.e+01,  5.e+00,\n",
              "        6.e+00,  1.e+01,  4.e+00,  4.e+00,  7.e+00, -3.e+00,  5.e+00,\n",
              "        8.e+00,  1.e-01,  1.e+00,  2.e+00,  2.e+01,  5.e+00,  1.e+01,\n",
              "        1.e+01,  1.e+01,  6.e+00,  7.e+00,  4.e+00,  2.e+01,  5.e+00,\n",
              "        1.e+01,  1.e+01, -5.e+00,  6.e+00,  8.e+00,  8.e+00,  5.e+00,\n",
              "        4.e+00,  5.e+00, -2.e+01,  2.e+01,  2.e+01, -1.e+01,  2.e-01,\n",
              "        3.e-01,  1.e+01,  7.e+00, -1.e+00,  3.e+00,  2.e+01,  3.e+01,\n",
              "        3.e+00, -2.e+00,  1.e+01,  1.e+01])"
            ]
          },
          "metadata": {
            "tags": []
          },
          "execution_count": 44
        }
      ]
    },
    {
      "cell_type": "code",
      "metadata": {
        "colab": {
          "base_uri": "https://localhost:8080/"
        },
        "id": "mPBXhdJyCxDc",
        "outputId": "30153144-3a8c-4882-e3d1-d1ef97d2871e"
      },
      "source": [
        "train2 = train.copy()\n",
        "val2 = val.copy()\n",
        "\n",
        "winsor_lower = np.percentile(train2['Target'], 1) # 0.1, 1, 5, 10?\n",
        "winsor_upper = np.percentile(train2['Target'], 99)\n",
        "train2['TargetWIN'] = train2['Target'].clip(lower=winsor_lower, upper=winsor_upper)\n",
        "\n",
        "features = ['Vendas', 'Produto', 'tMin', 'tMed', 'tMax']\n",
        "\n",
        "regr1 = LGBMRegressor(n_estimators = 100)\n",
        "\n",
        "regr1.fit(train2[features].fillna(-1), train2['TargetWIN'])\n",
        "\n",
        "r1 = regr1.predict(val2[features].fillna(-1))\n",
        "\n",
        "median_absolute_error(val2['Target'], regr1.predict(val2[features].fillna(-1)))"
      ],
      "execution_count": null,
      "outputs": [
        {
          "output_type": "execute_result",
          "data": {
            "text/plain": [
              "7.715707505937509"
            ]
          },
          "metadata": {
            "tags": []
          },
          "execution_count": 45
        }
      ]
    },
    {
      "cell_type": "code",
      "metadata": {
        "colab": {
          "base_uri": "https://localhost:8080/"
        },
        "id": "Cuwds6IjTbJ5",
        "outputId": "45a7343d-44fe-4a31-ac82-3730ae124139"
      },
      "source": [
        "regr1.predict(val2[features].fillna(-1))"
      ],
      "execution_count": null,
      "outputs": [
        {
          "output_type": "execute_result",
          "data": {
            "text/plain": [
              "array([ 1.e+02,  4.e+01,  2.e+00,  8.e+00,  4.e+00,  1.e+02,  5.e+01,\n",
              "        1.e+01,  7.e+00,  7.e+00,  2.e+02,  4.e+01,  7.e+00,  2.e+00,\n",
              "        3.e+00,  1.e+02,  6.e+01,  7.e+00,  8.e+00,  1.e+01,  1.e+02,\n",
              "        4.e+01,  2.e+00,  3.e+00,  7.e+00,  1.e+02,  3.e+01,  4.e+00,\n",
              "        3.e+00,  1.e+00,  2.e+02,  5.e+01,  6.e+00,  6.e+00,  3.e+00,\n",
              "        1.e+02,  3.e+01,  1.e+00,  3.e+00,  3.e+00,  1.e+02,  5.e+01,\n",
              "        5.e+00,  4.e+00,  3.e+00,  2.e+02,  4.e+01,  7.e+00,  8.e+00,\n",
              "        3.e+00,  1.e+02,  4.e+01, -6.e-01,  1.e-01,  5.e+00,  2.e+02,\n",
              "        5.e+01,  8.e+00,  5.e+00,  4.e+00,  1.e+02,  5.e+01,  3.e+00,\n",
              "        2.e+00,  1.e+00,  2.e+02,  3.e+01,  5.e+00,  5.e+00,  4.e+00,\n",
              "        1.e+02,  2.e+01,  7.e+00,  2.e+00,  4.e+00,  1.e+02,  4.e+01,\n",
              "        1.e+01,  9.e+00,  1.e+01,  1.e+02,  4.e+01,  1.e+01,  8.e+00,\n",
              "        7.e+00,  1.e+02,  4.e+01,  8.e+00,  7.e+00,  5.e+00,  1.e+02,\n",
              "        4.e+01,  1.e+00, -6.e-01,  2.e+00,  1.e+02,  3.e+01,  6.e+00,\n",
              "        7.e+00, -4.e-01,  1.e+02,  4.e+01,  5.e+00,  3.e+00,  6.e+00,\n",
              "        1.e+02,  4.e+01,  6.e+00,  4.e+00,  1.e+01,  1.e+02,  3.e+01,\n",
              "        4.e+00,  1.e+00, -9.e-01,  1.e+02,  3.e+01,  3.e+00,  1.e+00,\n",
              "        5.e+00,  1.e+02,  2.e+01,  4.e+00,  6.e-01, -2.e+00,  1.e+02,\n",
              "        7.e+01,  9.e+00,  7.e+00,  1.e+01])"
            ]
          },
          "metadata": {
            "tags": []
          },
          "execution_count": 46
        }
      ]
    },
    {
      "cell_type": "code",
      "metadata": {
        "id": "l0RoJZQGTbMh"
      },
      "source": [
        ""
      ],
      "execution_count": null,
      "outputs": []
    },
    {
      "cell_type": "code",
      "metadata": {
        "id": "QJ4dxCc6TbPe"
      },
      "source": [
        ""
      ],
      "execution_count": null,
      "outputs": []
    }
  ]
}